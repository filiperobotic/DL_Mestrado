{
  "nbformat": 4,
  "nbformat_minor": 0,
  "metadata": {
    "colab": {
      "name": "mnist_keras.ipynb",
      "provenance": [],
      "collapsed_sections": [],
      "include_colab_link": true
    },
    "kernelspec": {
      "name": "python3",
      "display_name": "Python 3"
    },
    "accelerator": "GPU"
  },
  "cells": [
    {
      "cell_type": "markdown",
      "metadata": {
        "id": "view-in-github",
        "colab_type": "text"
      },
      "source": [
        "<a href=\"https://colab.research.google.com/github/filiperobotic/DL_Mestrado/blob/master/codes/aula3/mnist_keras.ipynb\" target=\"_parent\"><img src=\"https://colab.research.google.com/assets/colab-badge.svg\" alt=\"Open In Colab\"/></a>"
      ]
    },
    {
      "cell_type": "markdown",
      "metadata": {
        "id": "jQs7GKbgwc9w"
      },
      "source": [
        "Nesse exercício, nós treinamos uma rede MLP para classificar imagens da base MNIST.\n",
        "\n",
        "### 1. Carregar a base MNIST"
      ]
    },
    {
      "cell_type": "code",
      "metadata": {
        "id": "wtuotbE9wVZ4"
      },
      "source": [
        "from keras.datasets import mnist\n",
        "\n",
        "# use Keras to import pre-shuffled MNIST database\n",
        "(X_train, y_train), (X_test, y_test) = mnist.load_data()\n",
        "\n",
        "print(\"The MNIST database has a training set of %d examples.\" % len(X_train))\n",
        "print(\"The MNIST database has a test set of %d examples.\" % len(X_test))"
      ],
      "execution_count": null,
      "outputs": []
    },
    {
      "cell_type": "markdown",
      "metadata": {
        "id": "HepPTJpywtn6"
      },
      "source": [
        "### 2. Visualizar as 6 primeiras imagens de treinamento"
      ]
    },
    {
      "cell_type": "code",
      "metadata": {
        "id": "velWQV9qwqFM"
      },
      "source": [
        "import matplotlib.pyplot as plt\n",
        "%matplotlib inline\n",
        "import matplotlib.cm as cm\n",
        "import numpy as np\n",
        "\n",
        "# plot first six training images\n",
        "fig = plt.figure(figsize=(20,20))\n",
        "for i in range(6):\n",
        "    ax = fig.add_subplot(1, 6, i+1, xticks=[], yticks=[])\n",
        "    ax.imshow(X_train[i], cmap='gray')\n",
        "    ax.set_title(str(y_train[i]))"
      ],
      "execution_count": null,
      "outputs": []
    },
    {
      "cell_type": "markdown",
      "metadata": {
        "id": "nRlCLDdCw6jE"
      },
      "source": [
        "### 3. Ver a imagem em mais detalhes"
      ]
    },
    {
      "cell_type": "code",
      "metadata": {
        "id": "L657_et1w1Bt"
      },
      "source": [
        "def visualize_input(img, ax):\n",
        "    ax.imshow(img, cmap='gray')\n",
        "    width, height = img.shape\n",
        "    thresh = img.max()/2.5\n",
        "    for x in range(width):\n",
        "        for y in range(height):\n",
        "            ax.annotate(str(round(img[x][y],2)), xy=(y,x),\n",
        "                        horizontalalignment='center',\n",
        "                        verticalalignment='center',\n",
        "                        color='white' if img[x][y]<thresh else 'black')\n",
        "\n",
        "fig = plt.figure(figsize = (12,12)) \n",
        "ax = fig.add_subplot(111)\n",
        "visualize_input(X_train[0], ax)"
      ],
      "execution_count": null,
      "outputs": []
    },
    {
      "cell_type": "markdown",
      "metadata": {
        "id": "8Q-m0j2axG0X"
      },
      "source": [
        "### 4. Reescalar as imagens dividindo cada pixel da imagem por 255"
      ]
    },
    {
      "cell_type": "code",
      "metadata": {
        "id": "FJHZzB0mxBee"
      },
      "source": [
        "# rescale [0,255] --> [0,1]\n",
        "X_train = X_train.astype('float32')/255\n",
        "X_test = X_test.astype('float32')/255 "
      ],
      "execution_count": 5,
      "outputs": []
    },
    {
      "cell_type": "markdown",
      "metadata": {
        "id": "OODpsCC3xWAx"
      },
      "source": [
        "### 5. Codificar os rótulos usando o One-Hot Encoding"
      ]
    },
    {
      "cell_type": "code",
      "metadata": {
        "id": "TVADGpRBxO9Y"
      },
      "source": [
        "#from keras.utils import np_utils\n",
        "from sklearn.preprocessing import LabelBinarizer\n",
        "\n",
        "# print first ten (integer-valued) training labels\n",
        "print('Integer-valued labels:')\n",
        "print(y_train[:10])\n",
        "\n",
        "# each image in the MNIST dataset is represented as a 28x28x1\n",
        "# image, but in order to apply a standard neural network we must\n",
        "# first \"flatten\" the image to be simple list of 28x28=784 pixels\n",
        "X_train = X_train.reshape((X_train.shape[0], 28*28*1))\n",
        "X_test = X_test.reshape((X_test.shape[0], 28 *28*1))\n",
        "\n",
        "# one-hot encode the labels\n",
        "#y_train = np_utils.to_categorical(y_train, 10)\n",
        "#y_test = np_utils.to_categorical(y_test, 10)\n",
        "\n",
        "lb = LabelBinarizer()\n",
        "y_train = lb.fit_transform(y_train)\n",
        "y_test = lb.transform(y_test)\n",
        "\n",
        "# print first ten (one-hot) training labels\n",
        "print('One-hot labels:')\n",
        "print(y_train[:10])\n"
      ],
      "execution_count": null,
      "outputs": []
    },
    {
      "cell_type": "markdown",
      "metadata": {
        "id": "A0-sLa-0yN3p"
      },
      "source": [
        "### 6. Definir o Modelo de Arquitetura"
      ]
    },
    {
      "cell_type": "code",
      "metadata": {
        "id": "6G-jA1tCyM7S"
      },
      "source": [
        "from keras.models import Sequential\n",
        "from keras.layers import Dense, Dropout, Flatten\n",
        "\n",
        "# define the model\n",
        "model = Sequential()\n",
        "model.add(Dense(256, input_shape=(784,), activation=\"sigmoid\"))\n",
        "model.add(Dense(128, activation=\"sigmoid\"))\n",
        "model.add(Dense(10, activation=\"softmax\"))\n",
        "\n",
        "# summarize the model\n",
        "model.summary()"
      ],
      "execution_count": null,
      "outputs": []
    },
    {
      "cell_type": "markdown",
      "metadata": {
        "id": "85icVpVPzTe6"
      },
      "source": [
        "### 7. Compilar o Modelo"
      ]
    },
    {
      "cell_type": "code",
      "metadata": {
        "id": "90NyqA8CyZ22"
      },
      "source": [
        "from keras.optimizers import SGD\n",
        "\n",
        "# compile the model\n",
        "sgd = SGD(0.01)\n",
        "model.compile(loss='categorical_crossentropy', optimizer=sgd, \n",
        "              metrics=['accuracy'])"
      ],
      "execution_count": 8,
      "outputs": []
    },
    {
      "cell_type": "markdown",
      "metadata": {
        "id": "vUCVVZ7fzdm6"
      },
      "source": [
        "### 8. Calcular a acurácia de classificação no conjunto de teste (antes do treinamento)"
      ]
    },
    {
      "cell_type": "code",
      "metadata": {
        "id": "1sidCtb2zdHb"
      },
      "source": [
        "# evaluate test accuracy\n",
        "score = model.evaluate(X_test, y_test, verbose=0)\n",
        "accuracy = 100*score[1]\n",
        "\n",
        "# print test accuracy\n",
        "print('Test accuracy: %.4f%%' % accuracy)"
      ],
      "execution_count": null,
      "outputs": []
    },
    {
      "cell_type": "markdown",
      "metadata": {
        "id": "rFzLrHLmzqsE"
      },
      "source": [
        "### 9. Treinar o Modelo"
      ]
    },
    {
      "cell_type": "code",
      "metadata": {
        "id": "msa7ktaOzaTp"
      },
      "source": [
        "# train the model\n",
        "hist = model.fit(X_train, y_train, validation_data=(X_test, y_test), epochs=100, batch_size=128)"
      ],
      "execution_count": null,
      "outputs": []
    },
    {
      "cell_type": "markdown",
      "metadata": {
        "id": "4Aj0wRy30NFF"
      },
      "source": [
        "### 11. Avaliando o modelo no conjunto de teste"
      ]
    },
    {
      "cell_type": "code",
      "metadata": {
        "id": "aHPrlVga4R_B"
      },
      "source": [
        "from sklearn.metrics import classification_report\n",
        "\n",
        "# evaluate the network\n",
        "print(\"[INFO] evaluating network...\")\n",
        "predictions = model.predict(X_test, batch_size=128)\n",
        "print(classification_report(y_test.argmax(axis=1),\n",
        "     predictions.argmax(axis=1),\n",
        "     target_names=[str(x) for x in lb.classes_]))"
      ],
      "execution_count": null,
      "outputs": []
    },
    {
      "cell_type": "code",
      "metadata": {
        "id": "01W_zbN24xqX"
      },
      "source": [
        "import matplotlib.pyplot as plt\n",
        "\n",
        "# plot the training loss and accuracy\n",
        "plt.style.use(\"ggplot\")\n",
        "plt.figure()\n",
        "plt.plot(np.arange(0,100), hist.history[\"loss\"],label=\"train_loss\")\n",
        "plt.plot(np.arange(0,100), hist.history[\"val_loss\"], label=\"val_loss\")\n",
        "plt.plot(np.arange(0,100), hist.history[\"accuracy\"],label=\"train_acc\")\n",
        "plt.plot(np.arange(0,100), hist.history[\"val_accuracy\"], label=\"val_acc\")\n",
        "plt.title(\"Training Loss and Accuracy\")\n",
        "plt.xlabel(\"Epoch #\")\n",
        "plt.ylabel(\"Loss/Accuracy\")\n",
        "plt.legend()\n"
      ],
      "execution_count": null,
      "outputs": []
    },
    {
      "cell_type": "code",
      "metadata": {
        "id": "Qyvg8mBc46LF"
      },
      "source": [
        ""
      ],
      "execution_count": null,
      "outputs": []
    }
  ]
}