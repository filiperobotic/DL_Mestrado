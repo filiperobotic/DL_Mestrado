{
  "nbformat": 4,
  "nbformat_minor": 0,
  "metadata": {
    "colab": {
      "name": "MLP_code.ipynb",
      "version": "0.3.2",
      "provenance": [],
      "collapsed_sections": [],
      "include_colab_link": true
    },
    "kernelspec": {
      "display_name": "Python 3",
      "language": "python",
      "name": "python3"
    }
  },
  "cells": [
    {
      "cell_type": "markdown",
      "metadata": {
        "id": "view-in-github",
        "colab_type": "text"
      },
      "source": [
        "<a href=\"https://colab.research.google.com/github/filiperobotic/cursoDL/blob/master/codes/aula2/MLP_code.ipynb\" target=\"_parent\"><img src=\"https://colab.research.google.com/assets/colab-badge.svg\" alt=\"Open In Colab\"/></a>"
      ]
    },
    {
      "metadata": {
        "id": "xrN_0oLBwLt6",
        "colab_type": "text"
      },
      "cell_type": "markdown",
      "source": [
        "# Classificação com Multilayer Perceptron \n",
        "\n",
        "Olá! Nesse exercício você irá construir uma rede MLP com uma camada escondida .\n"
      ]
    },
    {
      "metadata": {
        "id": "ELm-GUJ1wLt8",
        "colab_type": "text"
      },
      "cell_type": "markdown",
      "source": [
        "## 1 - Pacotes ##\n",
        "\n",
        "Pacotes necessários durante essa tarefa:\n",
        "- [numpy](www.numpy.org) é um pacote científico fundamental para computação com Python.\n",
        "- [sklearn](http://scikit-learn.org/stable/)  fornece ferramentas eficientes para mineração e análise de dados. \n",
        "- [matplotlib](http://matplotlib.org) é uma biblioteca para plotar gráficos em python.\n",
        "- testCases fornecem alguns exemplos de teste para assegurar a corretude das suas funções.\n",
        "- planar_utils provê várias funções úteis usadas nessa tarefa."
      ]
    },
    {
      "metadata": {
        "id": "WySEtoCBx6xJ",
        "colab_type": "code",
        "colab": {}
      },
      "cell_type": "code",
      "source": [
        "!git clone https://github.com/filiperobotic/cursoDL"
      ],
      "execution_count": 0,
      "outputs": []
    },
    {
      "metadata": {
        "id": "slhIHq3QwLt9",
        "colab_type": "code",
        "colab": {}
      },
      "cell_type": "code",
      "source": [
        "# Package imports\n",
        "import numpy as np\n",
        "import matplotlib.pyplot as plt\n",
        "from cursoDL.codes.aula2.testCases import *\n",
        "import sklearn\n",
        "import sklearn.datasets\n",
        "import sklearn.linear_model\n",
        "from cursoDL.codes.aula2.planar_utils import plot_decision_boundary, sigmoid, load_planar_dataset, load_extra_datasets\n",
        "\n",
        "%matplotlib inline\n",
        "\n",
        "np.random.seed(1) # set a seed so that the results are consistent"
      ],
      "execution_count": 0,
      "outputs": []
    },
    {
      "metadata": {
        "id": "YzoNo5VUwLuB",
        "colab_type": "text"
      },
      "cell_type": "markdown",
      "source": [
        "## 2 - Dataset ##\n",
        "\n",
        "Primeiro, vamos carregar o dataset que iremos trabalhar. O código seguinte irá carregar o dataset de duas classes \"flower\" em duas variáveis X e Y."
      ]
    },
    {
      "metadata": {
        "id": "fHD1sXLFwLuC",
        "colab_type": "code",
        "colab": {}
      },
      "cell_type": "code",
      "source": [
        "X, Y = load_planar_dataset()\n",
        "#generate array to 1-dimensional to show the color in the graph\n",
        "temp= Y.reshape(Y.shape[0]*Y.shape[1], 1)\n",
        "colors = temp[:,0]\n",
        "\n"
      ],
      "execution_count": 0,
      "outputs": []
    },
    {
      "metadata": {
        "id": "e5bSUvcLwLuG",
        "colab_type": "text"
      },
      "cell_type": "markdown",
      "source": [
        "Visualize o dataset usando o matplotlib. A base irá se parecer com uma flor com pontos em rótulos vermelhos (y=0) e rótulos azuis (y=1). Seu objetivo é construir um modelo para se ajustar a essa base. "
      ]
    },
    {
      "metadata": {
        "id": "bZSC6YfjwLuH",
        "colab_type": "code",
        "colab": {}
      },
      "cell_type": "code",
      "source": [
        "# Visualize the data:\n",
        "plt.scatter(X[0, :], X[1, :], c=colors, s=40, cmap=plt.cm.Spectral);"
      ],
      "execution_count": 0,
      "outputs": []
    },
    {
      "metadata": {
        "id": "Vzl_JX70wLuO",
        "colab_type": "text"
      },
      "cell_type": "markdown",
      "source": [
        "Você tem:\n",
        "    - um array-numpy (matriz) X que contêm as caraterísticas  (x1, x2)\n",
        "    - um array-numpy (vetor) Y que contêm os rótulos  (red:0, blue:1).\n",
        "\n",
        "\n",
        "Vamos primeiro analisar como é o nosso dado.\n",
        "\n",
        "**Exercício**: Quantos exemplos de treinamento nós temos? Qual é o tamanho das variáveis X e Y?\n",
        "\n",
        "**Dica**: Use a função shape para pegar o tamanho de um array numpy.[(help)](https://docs.scipy.org/doc/numpy/reference/generated/numpy.ndarray.shape.html)"
      ]
    },
    {
      "metadata": {
        "id": "iaGTAyb4wLuO",
        "colab_type": "code",
        "colab": {}
      },
      "cell_type": "code",
      "source": [
        "### START CODE HERE ### (≈ 3 lines of code)\n",
        "shape_X = \n",
        "shape_Y = \n",
        "m =     # training set size\n",
        "### END CODE HERE ###\n",
        "\n",
        "print ('The shape of X is: ' + str(shape_X))\n",
        "print ('The shape of Y is: ' + str(shape_Y))\n",
        "print ('I have m = %d training examples!' % (m))"
      ],
      "execution_count": 0,
      "outputs": []
    },
    {
      "metadata": {
        "id": "XzBIDBdVwLuU",
        "colab_type": "text"
      },
      "cell_type": "markdown",
      "source": [
        "**Expected Output**:\n",
        "       \n",
        "<table style=\"width:20%\">\n",
        "  \n",
        "  <tr>\n",
        "    <td>**shape of X**</td>\n",
        "    <td> (2, 400) </td> \n",
        "  </tr>\n",
        "  \n",
        "  <tr>\n",
        "    <td>**shape of Y**</td>\n",
        "    <td>(1, 400) </td> \n",
        "  </tr>\n",
        "  \n",
        "    <tr>\n",
        "    <td>**m**</td>\n",
        "    <td> 400 </td> \n",
        "  </tr>\n",
        "  \n",
        "</table>"
      ]
    },
    {
      "metadata": {
        "id": "tePA0P7wwLuU",
        "colab_type": "text"
      },
      "cell_type": "markdown",
      "source": [
        "## 3 - Regressão Logística\n",
        "\n",
        "Antes de construirmos uma rede neural, vamos primeiro observar como é o desempenho do algoritmo de regressão logística para esse problema. Rode o código abaixo para treinar o classificador para a base."
      ]
    },
    {
      "metadata": {
        "id": "owTCN0CZwLuV",
        "colab_type": "code",
        "colab": {}
      },
      "cell_type": "code",
      "source": [
        "# Train the logistic regression classifier\n",
        "clf = sklearn.linear_model.LogisticRegressionCV();\n",
        "clf.fit(X.T, Y.T);"
      ],
      "execution_count": 0,
      "outputs": []
    },
    {
      "metadata": {
        "id": "1LEzpZSpwLua",
        "colab_type": "text"
      },
      "cell_type": "markdown",
      "source": [
        "Você pode agora plotar a superfície de decisão desse modelo. Rode o código abaixo."
      ]
    },
    {
      "metadata": {
        "scrolled": false,
        "id": "6ipq99MFwLub",
        "colab_type": "code",
        "colab": {}
      },
      "cell_type": "code",
      "source": [
        "# Plot the decision boundary for logistic regression\n",
        "#plot_decision_boundary(lambda x: clf.predict(x), X, Y)\n",
        "plot_decision_boundary(lambda x: clf.predict(x), X, colors)\n",
        "plt.title(\"Logistic Regression\")\n",
        "\n",
        "# Print accuracy\n",
        "LR_predictions = clf.predict(X.T)\n",
        "print ('Accuracy of logistic regression: %d ' % float((np.dot(Y, LR_predictions) + np.dot(1 - Y,1 - LR_predictions)) / float(Y.size) * 100) +\n",
        "       '% ' + \"(percentage of correctly labelled datapoints)\")"
      ],
      "execution_count": 0,
      "outputs": []
    },
    {
      "metadata": {
        "id": "iOhJVdcTwLuh",
        "colab_type": "text"
      },
      "cell_type": "markdown",
      "source": [
        "**Interpretação**:  A base não é linearmente separável, então a regressão logística não desempenha bem. "
      ]
    },
    {
      "metadata": {
        "id": "Klovk3mhwLui",
        "colab_type": "text"
      },
      "cell_type": "markdown",
      "source": [
        "## 4 - Rede Neural\n",
        "\n",
        "A regressão logística não foi bem para a base \"flower\". Iremos treinar uma rede neural com uma única camada escondida.\n",
        "\n",
        "**Aqui está o seu modelo**:\n",
        "<img src=\"https://github.com/Kulbear/deep-learning-coursera/blob/master/Neural%20Networks%20and%20Deep%20Learning/images/classification_kiank.png?raw=1\" style=\"width:600px;height:300px;\">\n",
        "\n",
        "**Matematicamente**:\n",
        "\n",
        "Para cada exemplo $x^{(i)}$:\n",
        "$$z^{[1] (i)} =  W^{[1]} x^{(i)} + b^{[1] (i)}\\tag{1}$$ \n",
        "$$a^{[1] (i)} = \\tanh(z^{[1] (i)})\\tag{2}$$\n",
        "$$z^{[2] (i)} = W^{[2]} a^{[1] (i)} + b^{[2] (i)}\\tag{3}$$\n",
        "$$\\hat{y}^{(i)} = a^{[2] (i)} = \\sigma(z^{ [2] (i)})\\tag{4}$$\n",
        "$$y^{(i)}_{prediction} = \\begin{cases} 1 & \\mbox{if } a^{[2](i)} > 0.5 \\\\ 0 & \\mbox{otherwise } \\end{cases}\\tag{5}$$\n",
        "\n",
        "Dado as predições de todos os exemplos, você também pode computar o custo  $J$, como mostrado a seguir: \n",
        "$$J = - \\frac{1}{m} \\sum\\limits_{i = 0}^{m} \\large\\left(\\small y^{(i)}\\log\\left(a^{[2] (i)}\\right) + (1-y^{(i)})\\log\\left(1- a^{[2] (i)}\\right)  \\large  \\right) \\small \\tag{6}$$\n",
        "\n"
      ]
    },
    {
      "metadata": {
        "id": "dO3dwlOzwLuj",
        "colab_type": "text"
      },
      "cell_type": "markdown",
      "source": [
        "### 4.1 - Defining the neural network structure ####\n",
        "\n",
        "1.   List item\n",
        "2.   List item\n",
        "\n",
        "\n",
        "\n",
        "**Exercício**: Defina três variáveis:\n",
        "    - n_x: tamanho da camada de entrada\n",
        "    - n_h: o tamanho da camda escondida \n",
        "    - n_y: o tamanho da camda de saída\n",
        "\n",
        "**Dica**: Use os tamanhos de X e Y para encontrar n_x e n_y. Use a função 'shape'. Para o tamanho da camada escondida defina de acordo com o modelo."
      ]
    },
    {
      "metadata": {
        "id": "4otR6knmwLuk",
        "colab_type": "code",
        "colab": {}
      },
      "cell_type": "code",
      "source": [
        "# GRADED FUNCTION: layer_sizes\n",
        "\n",
        "def layer_sizes(X, Y):\n",
        "    \"\"\"\n",
        "    Arguments:\n",
        "    X -- input dataset of shape (input size, number of examples)\n",
        "    Y -- labels of shape (output size, number of examples)\n",
        "    \n",
        "    Returns:\n",
        "    n_x -- the size of the input layer\n",
        "    n_h -- the size of the hidden layer\n",
        "    n_y -- the size of the output layer\n",
        "    \"\"\"\n",
        "    ### START CODE HERE ### (≈ 3 lines of code)\n",
        "    n_x =    # size of input layer\n",
        "    n_h = \n",
        "    n_y =  # size of output layer\n",
        "    ### END CODE HERE ###\n",
        "    return (n_x, n_h, n_y)"
      ],
      "execution_count": 0,
      "outputs": []
    },
    {
      "metadata": {
        "id": "bTfjphQqwLuo",
        "colab_type": "code",
        "colab": {}
      },
      "cell_type": "code",
      "source": [
        "X_assess, Y_assess = layer_sizes_test_case()\n",
        "(n_x, n_h, n_y) = layer_sizes(X_assess, Y_assess)\n",
        "print(\"The size of the input layer is: n_x = \" + str(n_x))\n",
        "print(\"The size of the hidden layer is: n_h = \" + str(n_h))\n",
        "print(\"The size of the output layer is: n_y = \" + str(n_y))"
      ],
      "execution_count": 0,
      "outputs": []
    },
    {
      "metadata": {
        "id": "LfaelpN1wLut",
        "colab_type": "text"
      },
      "cell_type": "markdown",
      "source": [
        "**Expected Output** (these are not the sizes you will use for your network, they are just used to assess the function you've just coded).\n",
        "\n",
        "<table style=\"width:20%\">\n",
        "  <tr>\n",
        "    <td>**n_x**</td>\n",
        "    <td> 5 </td> \n",
        "  </tr>\n",
        "  \n",
        "    <tr>\n",
        "    <td>**n_h**</td>\n",
        "    <td> 4 </td> \n",
        "  </tr>\n",
        "  \n",
        "    <tr>\n",
        "    <td>**n_y**</td>\n",
        "    <td> 2 </td> \n",
        "  </tr>\n",
        "  \n",
        "</table>"
      ]
    },
    {
      "metadata": {
        "id": "dDKItB0jwLuu",
        "colab_type": "text"
      },
      "cell_type": "markdown",
      "source": [
        "### 4.2 - Inicialize os parâmetros do modelo Initialize the model's parameters ####\n",
        "\n",
        "**Exercício**: Implemetne a função `initialize_parameters()`.\n",
        "\n",
        "**Instruções**:\n",
        "- Esteja certo que os tamanhos dos parâmetros estão corretos. \n",
        "- Você irá inicializar os pesos das matrizes com valores aleatórios. \n",
        "    - Use: `np.random.randn(a,b) * 0.01` para inicializar randomicamente uma matriz de tamanho  (a,b).\n",
        "- Você irá inicializar o vetor bias com zeros. \n",
        "    - Use: `np.zeros((a,b))` para inicializar uma matriz de tamanho (a,b) com zeros."
      ]
    },
    {
      "metadata": {
        "id": "BNo13kuNwLuw",
        "colab_type": "code",
        "colab": {}
      },
      "cell_type": "code",
      "source": [
        "# GRADED FUNCTION: initialize_parameters\n",
        "\n",
        "def initialize_parameters(n_x, n_h, n_y):\n",
        "    \"\"\"\n",
        "    Argument:\n",
        "    n_x -- size of the input layer\n",
        "    n_h -- size of the hidden layer\n",
        "    n_y -- size of the output layer\n",
        "    \n",
        "    Returns:\n",
        "    params -- python dictionary containing your parameters:\n",
        "                    W1 -- weight matrix of shape (n_h, n_x)\n",
        "                    b1 -- bias vector of shape (n_h, 1)\n",
        "                    W2 -- weight matrix of shape (n_y, n_h)\n",
        "                    b2 -- bias vector of shape (n_y, 1)\n",
        "    \"\"\"\n",
        "    \n",
        "    np.random.seed(2) # we set up a seed so that your output matches ours although the initialization is random.\n",
        "    \n",
        "    ### START CODE HERE ### (≈ 4 lines of code)\n",
        "    W1 = \n",
        "    b1 = \n",
        "    W2 = \n",
        "    b2 = \n",
        "    ### END CODE HERE ###\n",
        "    \n",
        "    assert (W1.shape == (n_h, n_x))\n",
        "    assert (b1.shape == (n_h, 1))\n",
        "    assert (W2.shape == (n_y, n_h))\n",
        "    assert (b2.shape == (n_y, 1))\n",
        "    \n",
        "    parameters = {\"W1\": W1,\n",
        "                  \"b1\": b1,\n",
        "                  \"W2\": W2,\n",
        "                  \"b2\": b2}\n",
        "    \n",
        "    return parameters"
      ],
      "execution_count": 0,
      "outputs": []
    },
    {
      "metadata": {
        "id": "05GDaDj7wLu0",
        "colab_type": "code",
        "colab": {}
      },
      "cell_type": "code",
      "source": [
        "n_x, n_h, n_y = initialize_parameters_test_case()\n",
        "\n",
        "parameters = initialize_parameters(n_x, n_h, n_y)\n",
        "print(\"W1 = \" + str(parameters[\"W1\"]))\n",
        "print(\"b1 = \" + str(parameters[\"b1\"]))\n",
        "print(\"W2 = \" + str(parameters[\"W2\"]))\n",
        "print(\"b2 = \" + str(parameters[\"b2\"]))"
      ],
      "execution_count": 0,
      "outputs": []
    },
    {
      "metadata": {
        "id": "NpKONu1KwLu6",
        "colab_type": "text"
      },
      "cell_type": "markdown",
      "source": [
        "**Expected Output**:\n",
        "\n",
        "<table style=\"width:90%\">\n",
        "  <tr>\n",
        "    <td>**W1**</td>\n",
        "    <td> [[-0.00416758 -0.00056267]\n",
        " [-0.02136196  0.01640271]\n",
        " [-0.01793436 -0.00841747]\n",
        " [ 0.00502881 -0.01245288]] </td> \n",
        "  </tr>\n",
        "  \n",
        "  <tr>\n",
        "    <td>**b1**</td>\n",
        "    <td> [[ 0.]\n",
        " [ 0.]\n",
        " [ 0.]\n",
        " [ 0.]] </td> \n",
        "  </tr>\n",
        "  \n",
        "  <tr>\n",
        "    <td>**W2**</td>\n",
        "    <td> [[-0.01057952 -0.00909008  0.00551454  0.02292208]]</td> \n",
        "  </tr>\n",
        "  \n",
        "\n",
        "  <tr>\n",
        "    <td>**b2**</td>\n",
        "    <td> [[ 0.]] </td> \n",
        "  </tr>\n",
        "  \n",
        "</table>\n",
        "\n"
      ]
    },
    {
      "metadata": {
        "id": "_S0sFR4_wLu8",
        "colab_type": "text"
      },
      "cell_type": "markdown",
      "source": [
        "### 4.3 - The Loop ####\n",
        "\n",
        "**Question**: Implemente `forward_propagation()`.\n",
        "\n",
        "**Instructions**:\n",
        "- Olhe acima a representação matemática do seu classificador.\n",
        "- Você pode usar a função `sigmoid()`. Ela é uma função importada da biblioteca.\n",
        "- Você também pode usar a função `np.tanh()` no lugar da sigmoide, se quiser.\n",
        "- O passo que você deve implementar é:\n",
        "   \n",
        "    - Compute $Z^{[1]}, A^{[1]}, Z^{[2]}$ and $A^{[2]}$ (vetor de todas as predições de todos os exemplos do conjunto de treinamento).\n",
        "\n"
      ]
    },
    {
      "metadata": {
        "id": "CNbShtuRwLu-",
        "colab_type": "code",
        "colab": {}
      },
      "cell_type": "code",
      "source": [
        "# GRADED FUNCTION: forward_propagation\n",
        "\n",
        "def forward_propagation(X, parameters):\n",
        "    \"\"\"\n",
        "    Argument:\n",
        "    X -- input data of size (n_x, m)\n",
        "    parameters -- python dictionary containing your parameters (output of initialization function)\n",
        "    \n",
        "    Returns:\n",
        "    A2 -- The sigmoid output of the second activation\n",
        "    cache -- a dictionary containing \"Z1\", \"A1\", \"Z2\" and \"A2\"\n",
        "    \"\"\"\n",
        "    # Retrieve each parameter from the dictionary \"parameters\"\n",
        "    W1 = parameters['W1']\n",
        "    b1 = parameters['b1']\n",
        "    W2 = parameters['W2']\n",
        "    b2 = parameters['b2']\n",
        "\n",
        "    \n",
        "    # Implement Forward Propagation to calculate A2 (probabilities)\n",
        "    ### START CODE HERE ### (≈ 4 lines of code)\n",
        "    Z1 = \n",
        "    A1 = \n",
        "    Z2 = \n",
        "    A2 = \n",
        "    ### END CODE HERE ###\n",
        "    \n",
        "    assert(A2.shape == (1, X.shape[1]))\n",
        "    \n",
        "    cache = {\"Z1\": Z1,\n",
        "             \"A1\": A1,\n",
        "             \"Z2\": Z2,\n",
        "             \"A2\": A2}\n",
        "    \n",
        "    return A2, cache"
      ],
      "execution_count": 0,
      "outputs": []
    },
    {
      "metadata": {
        "id": "zyUDIdsPwLvB",
        "colab_type": "code",
        "colab": {}
      },
      "cell_type": "code",
      "source": [
        "X_assess, parameters = forward_propagation_test_case()\n",
        "\n",
        "A2, cache = forward_propagation(X_assess, parameters)\n",
        "\n",
        "# Note: we use the mean here just to make sure that your output matches ours. \n",
        "print(np.mean(cache['Z1']), np.mean(cache['A1']), np.mean(cache['Z2']), np.mean(cache['A2']))"
      ],
      "execution_count": 0,
      "outputs": []
    },
    {
      "metadata": {
        "id": "ZBUz6_qmwLvG",
        "colab_type": "text"
      },
      "cell_type": "markdown",
      "source": [
        "**Expected Output**:\n",
        "<table style=\"width:55%\">\n",
        "  <tr>\n",
        "    <td> -0.000499755777742 -0.000496963353232 0.000438187450959 0.500109546852 </td> \n",
        "  </tr>\n",
        "</table>"
      ]
    },
    {
      "metadata": {
        "id": "M-7aTm-LwLvI",
        "colab_type": "code",
        "colab": {}
      },
      "cell_type": "code",
      "source": [
        "# GRADED FUNCTION: compute_cost\n",
        "\n",
        "def compute_cost(A2, Y, parameters):\n",
        "    \"\"\"\n",
        "    Computes the cross-entropy cost given in equation (13)\n",
        "    \n",
        "    Arguments:\n",
        "    A2 -- The sigmoid output of the second activation, of shape (1, number of examples)\n",
        "    Y -- \"true\" labels vector of shape (1, number of examples)\n",
        "    parameters -- python dictionary containing your parameters W1, b1, W2 and b2\n",
        "    \n",
        "    Returns:\n",
        "    cost -- cross-entropy cost given equation (13)\n",
        "    \"\"\"\n",
        "    \n",
        "    m = Y.shape[1] # number of example\n",
        "    \n",
        "    # Retrieve W1 and W2 from parameters\n",
        "\n",
        "    W1 = parameters['W1']\n",
        "    W2 = parameters['W2']\n",
        "    \n",
        "    \n",
        "    # Compute the cross-entropy cost\n",
        "   \n",
        "    logprobs = np.multiply(np.log(A2), Y) + np.multiply((1 - Y), np.log(1 - A2))\n",
        "    cost = - np.sum(logprobs) / m\n",
        "   \n",
        "    \n",
        "    cost = np.squeeze(cost)     # makes sure cost is the dimension we expect. \n",
        "                                # E.g., turns [[17]] into 17 \n",
        "    assert(isinstance(cost, float))\n",
        "    \n",
        "    return cost"
      ],
      "execution_count": 0,
      "outputs": []
    },
    {
      "metadata": {
        "id": "_ThBV411wLvU",
        "colab_type": "code",
        "colab": {}
      },
      "cell_type": "code",
      "source": [
        "# GRADED FUNCTION: backward_propagation\n",
        "\n",
        "def backward_propagation(parameters, cache, X, Y):\n",
        "    \"\"\"\n",
        "    Implement the backward propagation using the instructions above.\n",
        "    \n",
        "    Arguments:\n",
        "    parameters -- python dictionary containing our parameters \n",
        "    cache -- a dictionary containing \"Z1\", \"A1\", \"Z2\" and \"A2\".\n",
        "    X -- input data of shape (2, number of examples)\n",
        "    Y -- \"true\" labels vector of shape (1, number of examples)\n",
        "    \n",
        "    Returns:\n",
        "    grads -- python dictionary containing your gradients with respect to different parameters\n",
        "    \"\"\"\n",
        "    m = X.shape[1]\n",
        "    \n",
        "    # First, retrieve W1 and W2 from the dictionary \"parameters\".\n",
        "    \n",
        "    W1 = parameters['W1']\n",
        "    W2 = parameters['W2']\n",
        "    \n",
        "        \n",
        "    # Retrieve also A1 and A2 from dictionary \"cache\".\n",
        "    \n",
        "    A1 = cache['A1']\n",
        "    A2 = cache['A2']\n",
        "    \n",
        "    \n",
        "    # Backward propagation: calculate dW1, db1, dW2, db2. \n",
        "    \n",
        "    dZ2= A2 - Y\n",
        "    dW2 = (1 / m) * np.dot(dZ2, A1.T)\n",
        "    db2 = (1 / m) * np.sum(dZ2, axis=1, keepdims=True)\n",
        "    dZ1 = np.multiply(np.dot(W2.T, dZ2), 1 - np.power(A1, 2))\n",
        "    dW1 = (1 / m) * np.dot(dZ1, X.T)\n",
        "    db1 = (1 / m) * np.sum(dZ1, axis=1, keepdims=True)\n",
        "    \n",
        "    \n",
        "    grads = {\"dW1\": dW1,\n",
        "             \"db1\": db1,\n",
        "             \"dW2\": dW2,\n",
        "             \"db2\": db2}\n",
        "    \n",
        "    return grads"
      ],
      "execution_count": 0,
      "outputs": []
    },
    {
      "metadata": {
        "id": "9Wrx4VvDwLvg",
        "colab_type": "code",
        "colab": {}
      },
      "cell_type": "code",
      "source": [
        "# GRADED FUNCTION: update_parameters\n",
        "\n",
        "def update_parameters(parameters, grads, learning_rate=1.2):\n",
        "    \"\"\"\n",
        "    Updates parameters using the gradient descent update rule given above\n",
        "    \n",
        "    Arguments:\n",
        "    parameters -- python dictionary containing your parameters \n",
        "    grads -- python dictionary containing your gradients \n",
        "    \n",
        "    Returns:\n",
        "    parameters -- python dictionary containing your updated parameters \n",
        "    \"\"\"\n",
        "    # Retrieve each parameter from the dictionary \"parameters\"\n",
        "    \n",
        "    W1 = parameters['W1']\n",
        "    b1 = parameters['b1']\n",
        "    W2 = parameters['W2']\n",
        "    b2 = parameters['b2']\n",
        "    \n",
        "    \n",
        "    # Retrieve each gradient from the dictionary \"grads\"\n",
        "    \n",
        "    dW1 = grads['dW1']\n",
        "    db1 = grads['db1']\n",
        "    dW2 = grads['dW2']\n",
        "    db2 = grads['db2']\n",
        "\n",
        "    \n",
        "    # Update rule for each parameter\n",
        "\n",
        "    W1 = W1 - learning_rate * dW1\n",
        "    b1 = b1 - learning_rate * db1\n",
        "    W2 = W2 - learning_rate * dW2\n",
        "    b2 = b2 - learning_rate * db2\n",
        "    \n",
        "    \n",
        "    parameters = {\"W1\": W1,\n",
        "                  \"b1\": b1,\n",
        "                  \"W2\": W2,\n",
        "                  \"b2\": b2}\n",
        "    \n",
        "    return parameters"
      ],
      "execution_count": 0,
      "outputs": []
    },
    {
      "metadata": {
        "id": "rBOP_CsQwLvp",
        "colab_type": "text"
      },
      "cell_type": "markdown",
      "source": [
        "### 4.4 - Integrando partes 4.1, 4.2 e 4.3 no nn_model() ####\n"
      ]
    },
    {
      "metadata": {
        "id": "RcdsLQoRwLvt",
        "colab_type": "code",
        "colab": {}
      },
      "cell_type": "code",
      "source": [
        "# GRADED FUNCTION: nn_model\n",
        "\n",
        "def nn_model(X, Y, n_h, num_iterations=10000, print_cost=False):\n",
        "    \"\"\"\n",
        "    Arguments:\n",
        "    X -- dataset of shape (2, number of examples)\n",
        "    Y -- labels of shape (1, number of examples)\n",
        "    n_h -- size of the hidden layer\n",
        "    num_iterations -- Number of iterations in gradient descent loop\n",
        "    print_cost -- if True, print the cost every 1000 iterations\n",
        "    \n",
        "    Returns:\n",
        "    parameters -- parameters learnt by the model. They can then be used to predict.\n",
        "    \"\"\"\n",
        "    \n",
        "    np.random.seed(3)\n",
        "    n_x = layer_sizes(X, Y)[0]\n",
        "    n_y = layer_sizes(X, Y)[2]\n",
        "    \n",
        "    # Initialize parameters, then retrieve W1, b1, W2, b2. Inputs: \"n_x, n_h, n_y\". Outputs = \"W1, b1, W2, b2, parameters\".\n",
        "    \n",
        "    parameters = initialize_parameters(n_x, n_h, n_y)\n",
        "    W1 = parameters['W1']\n",
        "    b1 = parameters['b1']\n",
        "    W2 = parameters['W2']\n",
        "    b2 = parameters['b2']\n",
        "    \n",
        "    \n",
        "    # Loop (gradient descent)\n",
        "\n",
        "    for i in range(0, num_iterations):\n",
        "         \n",
        "        \n",
        "        # Forward propagation. Inputs: \"X, parameters\". Outputs: \"A2, cache\".\n",
        "        A2, cache = forward_propagation(X, parameters)\n",
        "        \n",
        "        # Cost function. Inputs: \"A2, Y, parameters\". Outputs: \"cost\".\n",
        "        cost = compute_cost(A2, Y, parameters)\n",
        " \n",
        "        # Backpropagation. Inputs: \"parameters, cache, X, Y\". Outputs: \"grads\".\n",
        "        grads = backward_propagation(parameters, cache, X, Y)\n",
        " \n",
        "        # Gradient descent parameter update. Inputs: \"parameters, grads\". Outputs: \"parameters\".\n",
        "        parameters = update_parameters(parameters, grads)\n",
        "        \n",
        "        \n",
        "        \n",
        "        # Print the cost every 1000 iterations\n",
        "        if print_cost and i % 1000 == 0:\n",
        "            print (\"Cost after iteration %i: %f\" % (i, cost))\n",
        "\n",
        "    return parameters"
      ],
      "execution_count": 0,
      "outputs": []
    },
    {
      "metadata": {
        "id": "pIWVn27PwLv3",
        "colab_type": "text"
      },
      "cell_type": "markdown",
      "source": [
        "### 4.5 Predicões\n",
        "\n",
        "\n",
        "\n",
        "**Lembrete**: Predições = $y_{prediction} = \\mathbb 1 \\text{{activation > 0.5}} = \\begin{cases}\n",
        "      1 & \\text{if}\\ activation > 0.5 \\\\\n",
        "      0 & \\text{otherwise}\n",
        "    \\end{cases}$  \n",
        "    \n"
      ]
    },
    {
      "metadata": {
        "id": "Q28BfZj7wLv4",
        "colab_type": "code",
        "colab": {}
      },
      "cell_type": "code",
      "source": [
        "# GRADED FUNCTION: predict\n",
        "\n",
        "def predict(parameters, X):\n",
        "    \"\"\"\n",
        "    Using the learned parameters, predicts a class for each example in X\n",
        "    \n",
        "    Arguments:\n",
        "    parameters -- python dictionary containing your parameters \n",
        "    X -- input data of size (n_x, m)\n",
        "    \n",
        "    Returns\n",
        "    predictions -- vector of predictions of our model (red: 0 / blue: 1)\n",
        "    \"\"\"\n",
        "    \n",
        "    # Computes probabilities using forward propagation, and classifies to 0/1 using 0.5 as the threshold.\n",
        "    \n",
        "    A2, cache = forward_propagation(X, parameters)\n",
        "    predictions = np.round(A2)\n",
        "    \n",
        "    \n",
        "    return predictions"
      ],
      "execution_count": 0,
      "outputs": []
    },
    {
      "metadata": {
        "scrolled": false,
        "id": "Vx3HUEyswLwC",
        "colab_type": "code",
        "colab": {}
      },
      "cell_type": "code",
      "source": [
        "# Build a model with a n_h-dimensional hidden layer\n",
        "parameters = nn_model(X, Y, n_h = 4, num_iterations=10000, print_cost=True)\n",
        "\n",
        "# Plot the decision boundary\n",
        "plot_decision_boundary(lambda x: predict(parameters, x.T), X, colors)\n",
        "plt.title(\"Decision Boundary for hidden layer size \" + str(4))"
      ],
      "execution_count": 0,
      "outputs": []
    },
    {
      "metadata": {
        "id": "RaWWjznswLwG",
        "colab_type": "code",
        "colab": {}
      },
      "cell_type": "code",
      "source": [
        "# Print accuracy\n",
        "predictions = predict(parameters, X)\n",
        "print ('Accuracy: %d' % float((np.dot(Y, predictions.T) + np.dot(1 - Y, 1 - predictions.T)) / float(Y.size) * 100) + '%')"
      ],
      "execution_count": 0,
      "outputs": []
    },
    {
      "metadata": {
        "id": "I_PRZqLcwLwQ",
        "colab_type": "text"
      },
      "cell_type": "markdown",
      "source": [
        "A Acurácia é alta comparado com o modelo de Regressão logística. Vamos tentar com mais neurônios na camada escondida."
      ]
    },
    {
      "metadata": {
        "id": "1mornHttwLwR",
        "colab_type": "text"
      },
      "cell_type": "markdown",
      "source": [
        "### 4.6 - Ajustando o tamanho da camada escondida ###\n",
        "\n",
        "Run the following code. It may take 1-2 minutes. You will observe different behaviors of the model for various hidden layer sizes."
      ]
    },
    {
      "metadata": {
        "scrolled": false,
        "id": "A6tofdSewLwV",
        "colab_type": "code",
        "colab": {}
      },
      "cell_type": "code",
      "source": [
        "\n",
        "\n",
        "plt.figure(figsize=(16, 32))\n",
        "hidden_layer_sizes = []\n",
        "for i, n_h in enumerate(hidden_layer_sizes):\n",
        "    plt.subplot(5, 2, i + 1)\n",
        "    plt.title('Hidden Layer of size %d' % n_h)\n",
        "    parameters = nn_model(X, Y, n_h, num_iterations=5000)\n",
        "    plot_decision_boundary(lambda x: predict(parameters, x.T), X, colors)\n",
        "    predictions = predict(parameters, X)\n",
        "    accuracy = float((np.dot(Y, predictions.T) + np.dot(1 - Y, 1 - predictions.T)) / float(Y.size) * 100)\n",
        "    print (\"Accuracy for {} hidden units: {} %\".format(n_h, accuracy))"
      ],
      "execution_count": 0,
      "outputs": []
    },
    {
      "metadata": {
        "id": "JxiQW1dowLwg",
        "colab_type": "text"
      },
      "cell_type": "markdown",
      "source": [
        "## 5) Desempenho em outras bases"
      ]
    },
    {
      "metadata": {
        "collapsed": true,
        "id": "j-nyhIhiwLwh",
        "colab_type": "text"
      },
      "cell_type": "markdown",
      "source": [
        "Voce pode rodar novamente o código (menos a parte do dataset) para cada um desses datasets."
      ]
    },
    {
      "metadata": {
        "scrolled": false,
        "id": "9UdariO0wLwj",
        "colab_type": "code",
        "outputId": "bbd0937c-649a-4680-dd10-054e8b9a04d6",
        "colab": {
          "base_uri": "https://localhost:8080/",
          "height": 265
        }
      },
      "cell_type": "code",
      "source": [
        "# Datasets\n",
        "noisy_circles, noisy_moons, blobs, gaussian_quantiles, no_structure = load_extra_datasets()\n",
        "\n",
        "datasets = {\"noisy_circles\": noisy_circles,\n",
        "            \"noisy_moons\": noisy_moons,\n",
        "            \"blobs\": blobs,\n",
        "            \"gaussian_quantiles\": gaussian_quantiles}\n",
        "\n",
        "### START CODE HERE ### (choose your dataset)\n",
        "dataset = \"noisy_moons\"\n",
        "### END CODE HERE ###\n",
        "\n",
        "X, Y = datasets[dataset]\n",
        "X, Y = X.T, Y.reshape(1, Y.shape[0])\n",
        "temp= Y.reshape(Y.shape[0]*Y.shape[1], 1)\n",
        "colors = temp[:,0]\n",
        "\n",
        "# make blobs binary\n",
        "if dataset == \"blobs\":\n",
        "    Y = Y % 2\n",
        "\n",
        "# Visualize the data\n",
        "plt.scatter(X[0, :], X[1, :], c=colors, s=40, cmap=plt.cm.Spectral);"
      ],
      "execution_count": 0,
      "outputs": [
        {
          "output_type": "display_data",
          "data": {
            "image/png": "[encoded data removed]",
            "text/plain": [
              "<Figure size 432x288 with 1 Axes>"
            ]
          },
          "metadata": {
            "tags": []
          }
        }
      ]
    }
  ]
}