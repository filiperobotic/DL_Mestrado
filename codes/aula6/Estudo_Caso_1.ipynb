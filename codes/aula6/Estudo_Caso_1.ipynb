{
  "nbformat": 4,
  "nbformat_minor": 0,
  "metadata": {
    "colab": {
      "name": "Estudo Caso 1.ipynb",
      "version": "0.3.2",
      "provenance": [],
      "include_colab_link": true
    },
    "kernelspec": {
      "name": "python3",
      "display_name": "Python 3"
    }
  },
  "cells": [
    {
      "cell_type": "markdown",
      "metadata": {
        "id": "view-in-github",
        "colab_type": "text"
      },
      "source": [
        "<a href=\"https://colab.research.google.com/github/filiperobotic/cursoDL/blob/master/codes/aula5/Estudo_Caso_1.ipynb\" target=\"_parent\"><img src=\"https://colab.research.google.com/assets/colab-badge.svg\" alt=\"Open In Colab\"/></a>"
      ]
    },
    {
      "metadata": {
        "id": "r2NhtC7YEUwE",
        "colab_type": "text"
      },
      "cell_type": "markdown",
      "source": [
        "# Estudo de Caso 1"
      ]
    },
    {
      "metadata": {
        "id": "20NblyEKEYI3",
        "colab_type": "text"
      },
      "cell_type": "markdown",
      "source": [
        "Você é um famoso pesquisador da cidade de Passarópolis. As pessoas de Passarópolis tem uma característica em comum: elas tem medo de pássaros. Para salvá-los, você precisa **construir um algoritmo que detecta pássaros voando sobre Passarópolis** e alertar a população.\n",
        "\n",
        "O prefeito da cidade lhe dá uma base de dados de 10.000.000 imagens do céu sobre Passarópolis, tirado de câmeras de segurança da cidade. Elas estão rotuladas:\n",
        " * y=0: Não há pássaro na imagem\n",
        " * y=1: Há pássaro na imagem\n",
        " \n",
        " Seu objetivo é construir um algoritmo capaz de classificar novas imagens tiradas por câmeras de segurança de Passarópolis.\n",
        " \n",
        "  Existem algumas decisões a fazer:\n",
        "  * Qual é a métrica de avaliação?\n",
        "  * Como estruturar seus dados em conjuntos de treinamento/validação/teste?"
      ]
    },
    {
      "metadata": {
        "id": "-BgRjpMcFksh",
        "colab_type": "text"
      },
      "cell_type": "markdown",
      "source": [
        "## Métricas de avaliação\n",
        "\n",
        "## 1\n",
        "\n",
        "Depois de muita discussão, a cidade definiu os seguintes critérios:\n",
        "* \"Precisamos de um algortimo que nos permita dizer se um pássaro está voando sobre Passarópolis com a acurácia maior possível\"\n",
        "* \"Nós queremos que o treino do modelo leve menos de 10 segundos para classificar a imagem\"\n",
        "* \"Nós queremos que o modelo caiba em 10MB de memória\"\n",
        "\n",
        "Se você tivesse os seguintes modelos, qual você escolheria?\n",
        "\n",
        "\n",
        "\n",
        "\n",
        "\n",
        "A) Acurácia de Teste - 97%, Tempo de execução - 1seg, Tamanho de memória - 3MB\n",
        "\n",
        "B) Acurácia de Teste - 99%, Tempo de execução - 13seg, Tamanho de memória - 9MB\n",
        "\n",
        "C) Acurácia de Teste - 97%, Tempo de execução - 3seg, Tamanho de memória - 2MB\n",
        "\n",
        "D) Acurácia de Teste - 98%, Tempo de execução - 9seg, Tamanho de memória - 9MB\n",
        "\n"
      ]
    },
    {
      "metadata": {
        "id": "81PEcuS8Ei-9",
        "colab_type": "text"
      },
      "cell_type": "markdown",
      "source": [
        "## 2\n",
        "Baseado nos requerimentos da cidade, o que é possível dizer que é verdade?\n",
        "\n",
        "A) Acurácia é uma métrica de otimização; tempo de execução e tamanho de memória são métricas satisfatórias.\n",
        "\n",
        "B) Acurácia é uma métrica satisfatória; tempo de execução e tamanho de memória são métricas de otimização.\n",
        "\n",
        "C) Acurácia, tempo de execução e tamanho de memória são todas métricas de otimização porque você quer ter bom desempenho em todas três.\n",
        "\n",
        "D) Acurácia, tempo de execução e tamanho de memória são todas métricas satisfatórias porque é preciso desempenhar bem em todas as três métricas para o sistema ser aceito."
      ]
    },
    {
      "metadata": {
        "id": "-iSFcD3kIPJp",
        "colab_type": "text"
      },
      "cell_type": "markdown",
      "source": [
        "## Estruturando os dados\n",
        "\n",
        "## 3\n",
        "\n",
        "Antes de implementar o algoritmo, você precisa dividir seus dados em treinamento/validação/teste. Quais desses você acha que é a melhor escolha?\n",
        "\n",
        "A) Treino - 9.500.000/ Valid - 250.000/ Teste - 250.000\n",
        "\n",
        "B) Treino - 3.333.334/  Valid - 3.333.333/ Teste - 3.333.333\n",
        "\n",
        "C) Treino - 6.000.000 / Valid. - 3.000.000/ Teste - 1.000.000"
      ]
    },
    {
      "metadata": {
        "id": "F7yx_aztJeLF",
        "colab_type": "text"
      },
      "cell_type": "markdown",
      "source": [
        "## 4\n",
        "\n",
        "Depois de definir seus conjuntos de treino/validação/teste, o Conselho da Cidade trouxe outras 1.000.000 de imagens, chamadas de \"dados dos cidadãos\". Aparentemente os cidadãos de Passarópolis estão tão assustados com os pássaros que eles volutariamente tiraram fotos do céu e rotularam elas, contribuindo com 1.000.000 de imagens adicionais. Essas imagens são diferentes da distribuição de imagens que o Conselho da Cidade tinha lhe dado inicialmente, mas você acha que elas podem ajudar o algoritmo.\n",
        "\n",
        "Você não deve adicionar os dados dos cidadãos ao conjunto de treino, porque isso irá fazer com que as distribuições de validação e teste fiquem diferentes, prejudicando o desempenho dos conjuntos de validação e teste. \n",
        "\n",
        "A) Verdadeiro\n",
        "\n",
        "B) Falso"
      ]
    },
    {
      "metadata": {
        "id": "eZQo8pyyKXcP",
        "colab_type": "text"
      },
      "cell_type": "markdown",
      "source": [
        "## 5 Marque as verdadeiras\n",
        "\n",
        "Um membro do Conselho da Cidade sabe um pouco sobre aprendizado de máquina e acha que você deveria adicionar as 1.000.000 imagens da base dos cidadão no conjunto de teste. Você recusa porque:\n",
        "\n",
        "A) O conjunto de teste não reflete a distribuição de dados (câmeras de segurança) que é o que você se importa mais.\n",
        "\n",
        "B)As 1.000.000 imagens da base dos cidadãos não possuem um mapeamento x-->y consistente com o resto dos dados.\n",
        "\n",
        "C) Um conjunto maior de testes irá diminuir a velocidade de iteração, por causa do custo computacional para availiar os modelos no conjunto de teste.\n",
        "\n",
        "D) Isso irá ocasionar que as distribuições dos conjuntos de validação e teste serão diferentes. Isso é uma má ideia porque você não está focando no que você quer alcançar."
      ]
    },
    {
      "metadata": {
        "id": "tQ2Ag3LPLgRO",
        "colab_type": "text"
      },
      "cell_type": "markdown",
      "source": [
        "## 6\n",
        "\n",
        "Você treina o sistema e seu erro é apresentado a seguir (erro = 100% - acurácia):\n",
        "\n",
        "Erro do conjunto de treinamento : 4.0%\n",
        "\n",
        "Erro no conjunto de validação: 4.5%\n",
        "\n",
        "Isso sugere que uma boa forma de melhorar o desempenho é treinar uma rede maior para diminuir o erro do conjunto de treinamento. Você concorda?\n",
        "\n",
        "A) Sim, porque ter 4.0% de erro de treinamento mostra que você possui um alto bias.\n",
        "\n",
        "B) Sim, poquer isso mostra que seu bias é mais alto do que sua variância.\n",
        "\n",
        "C) Não, poquer isso mostra que sua variância é mais alta que seu bias.\n",
        "\n",
        "D)  Não, porque não há informação suficiente para dizer."
      ]
    },
    {
      "metadata": {
        "id": "qN1dOlMAMSjA",
        "colab_type": "text"
      },
      "cell_type": "markdown",
      "source": [
        "## 7\n",
        "Você pede para algumas pessoas para rotular a base para poder encontrar o nível de performance humana. Você encontra os seguintes níveis de acurácia:\n",
        "\n",
        "Especialista em pássaros #1 : 0.3% de erro\n",
        "\n",
        "Especialista em pássaros #2 : 0.5% de erro\n",
        "\n",
        "Pessoa normal #1 (não é especialista): 1.0% de erro\n",
        "\n",
        "Pessoa normal #2 (não é especialista): 1.2% de erro\n",
        "\n",
        "\n",
        "---\n",
        "\n",
        "\n",
        "\n",
        "Se seu objetivo é ter uma performance humana para o seu modelo se basear, como você definiria essa performance?\n",
        "\n",
        "A) 0.0% (porque é impossível ser melhor que isso)\n",
        "\n",
        "B) 0.3% (acurácia do especialista #1)\n",
        "\n",
        "C) 0.4% (média de 0.3 e 0.5)\n",
        "\n",
        "D) 0.75% (média dos 4 números acima)\n"
      ]
    },
    {
      "metadata": {
        "id": "aOI9Pq0KN1ff",
        "colab_type": "text"
      },
      "cell_type": "markdown",
      "source": [
        "## 8\n",
        "\n",
        "Você descobre que um time de especialistas debatendo e discutindo sobre as imagens obtém uma performance ainda melhor de 0.1% e então você a define como performance de nível humano. Depois de trabalhar mais no seu algoritmo, você termina com o seguinte:\n",
        "\n",
        "Desempenho humano: 0.1%\n",
        "\n",
        "Erro de Treinamento: 2.0%\n",
        "\n",
        "Erro de Validação: 2.1%\n",
        "\n",
        "\n",
        "---\n",
        "\n",
        "\n",
        "\n",
        "Baseado na evidência que você possui, quais duas das quatro proposições parecem ser as mais promissoras? (marque duas opcções)\n",
        "\n",
        "A) Aumentar a regularização\n",
        "\n",
        "B) Diminuir a reguralização\n",
        "\n",
        "C) Ter um conjunto maior de treinamento para reduzir a variância\n",
        "\n",
        "D) Treinar um modelo maior para para tentar melhor resultado no conjunto de treino."
      ]
    },
    {
      "metadata": {
        "id": "WQGsoV7SUA9M",
        "colab_type": "text"
      },
      "cell_type": "markdown",
      "source": [
        "## 9\n",
        "\n",
        "Você também avaliou seu modelo no conjunto de teste, e encontrou o seguinte:\n",
        "\n",
        "* Performance humana - 0.1%\n",
        "* Erro no conjunto de treino - 2.0%\n",
        "* Erro no conjunto de validação - 2.1%\n",
        "* Erro no conjunto de teste - 7.0%\n",
        "\n",
        "O que isso significa? (marque as duas melhores opções)\n",
        "\n",
        "A) Você tem underfit no conjunto de validação\n",
        "\n",
        "B) Você deveria tentar um conjunto de validação maior\n",
        "\n",
        "C) Você deveria obter um conjunto de teste maior\n",
        "\n",
        "D) Você tem overfit no conjunto de validação"
      ]
    },
    {
      "metadata": {
        "id": "imAof8cRUkkK",
        "colab_type": "text"
      },
      "cell_type": "markdown",
      "source": [
        "# 10\n",
        "Depois de trabalhar nesse projeto por um ano, você finalmente obtém:\n",
        "* Performance humana: 0.10%\n",
        "* Erro no conjunto de treino: 0.05%\n",
        "* Erro no conjunto de validação: 0.05%\n",
        "\n",
        "O que você pode concluir (marque todos que se aplicam)?\n",
        "\n",
        "A) Isso é uma anormalidade estatística (ou deve ser o resultado de um ruído estatístico) uma vez que deveria esr impossível ultrapassar o nível de performance humana.\n",
        "\n",
        "B) Com apenas 0.05% de progresso adicional para fazer, você deverá rapidamente ser capaz de reduzir o erro para 0%\n",
        "\n",
        "C) Se o conjunto de teste for grande o bastante para o erro de 0.05% estimado ser preciso, isso quer dizer que o erro Bayesiano é menor que 0.05\n",
        "\n",
        "D) Agora é difícil de avaliar o bias indesejável, assim o progresso será devagar daqui pra frente."
      ]
    },
    {
      "metadata": {
        "id": "yLWSEweGXlFL",
        "colab_type": "text"
      },
      "cell_type": "markdown",
      "source": [
        "# 11\n",
        "Você conseguiu vencer seu competidor e seus sistema agora foi entregue a Passarópolis e está protegendo os cidadãos dos pássaros! Mas ao longo dos últimos meses, uma nova espécie de pássaro tem lentamente migrado para a nova área, de tal forma que o desempenho do seu sistema vem decaindo porque seu modelo é testado em um novo tipo de dado.\n",
        "\n",
        "Você tem apenas 1.000 imagens da nova espécie de pássaro. A cidade espera um sistema melhor para os próximos 3 meses. Qual das opções abaixo você deveria fazer primeiro?\n",
        "\n",
        "A) Usar os dados que você tem para definir uma nova métrica de avaliação (usando um novo conjunto de validação/teste) levando em consideração as novas espécies, e usar isso para guiar os progressos futuros da sua equipe.\n",
        "\n",
        "B) Colocar as 1.000 imagens no conjunto de treinamento para tentar classificar melhor esses pássaros.\n",
        "\n",
        "C) Tentar usar data augmentation/ síntese de dados para pegar mais imagens do novo tipo de pássaro.\n",
        "\n",
        "D) Adicionar as 1.000 imagens na base e reembaralhar ela, dividindo em novos conjuntos de treino/validação/teste."
      ]
    },
    {
      "metadata": {
        "id": "6f5hkL0zY93M",
        "colab_type": "text"
      },
      "cell_type": "markdown",
      "source": [
        "# 12\n",
        "\n",
        "O conselho da cidade acha que tendo mais gatos na cidade irá ajudar a espantar os pássaros. Eles estão tão feliz como o trabalho em detecção de pássaros que eles também irão te contratar para construir um detector de gatos. Por sorte,  você já vinha trabalhando com detectores de gato e você tem uma base imensa de 100.000.000 imagens de gato e para treinar nessa base seria necessário apenas duas semanas. Quais das afirmações abaixo você concorda (marque todas que concordar):\n",
        "\n",
        "A) Comprar computadores mais rápidos poderia acelerar a velocidade de iteração do seu time e assim aumentar a produtividade do time.\n",
        "\n",
        "B) Precisar  de duas semanas para treinar irá limitar a velocidade na qual você poderar iterar.\n",
        "\n",
        "C) Tendo construído um bom detector de pássaros, você deve ser capaz de usar o mesmo modelo e hiperparâmetros e apenas aplicar na base de gatos, não sendo necessário iterar.\n",
        "\n",
        "D) Se 100.000.000 exemplos é o suficiente para construir um modelo bom o bastante para detectar gatos, seria melhor treinar com apenas 10.000.000 exemplos para ganhar aproximadamente 10x melhoria na velocidade que você consegue rodar os experimentos, mesmo que o desempenho de cada modeLo seja pior porque foi treinado em menos dados."
      ]
    },
    {
      "metadata": {
        "id": "9MomX1aA8BbX",
        "colab_type": "code",
        "colab": {}
      },
      "cell_type": "code",
      "source": [
        ""
      ],
      "execution_count": 0,
      "outputs": []
    }
  ]
}