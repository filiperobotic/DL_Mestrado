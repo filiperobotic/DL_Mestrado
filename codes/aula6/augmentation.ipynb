{
  "nbformat": 4,
  "nbformat_minor": 0,
  "metadata": {
    "colab": {
      "name": "augmentation.ipynb",
      "version": "0.3.2",
      "provenance": [],
      "include_colab_link": true
    },
    "kernelspec": {
      "name": "python3",
      "display_name": "Python 3"
    },
    "accelerator": "GPU"
  },
  "cells": [
    {
      "cell_type": "markdown",
      "metadata": {
        "id": "view-in-github",
        "colab_type": "text"
      },
      "source": [
        "<a href=\"https://colab.research.google.com/github/filiperobotic/cursoDL/blob/master/codes/aula5/augmentation.ipynb\" target=\"_parent\"><img src=\"https://colab.research.google.com/assets/colab-badge.svg\" alt=\"Open In Colab\"/></a>"
      ]
    },
    {
      "metadata": {
        "id": "sElOR1brHMOc",
        "colab_type": "code",
        "colab": {}
      },
      "cell_type": "code",
      "source": [
        "!git clone https://github.com/filiperobotic/cursoDL.git"
      ],
      "execution_count": 0,
      "outputs": []
    },
    {
      "metadata": {
        "id": "22RHerIZgaBk",
        "colab_type": "code",
        "outputId": "70adfe01-a6f4-4c71-cb98-853c04b5e8e0",
        "colab": {
          "base_uri": "https://localhost:8080/",
          "height": 52
        }
      },
      "cell_type": "code",
      "source": [
        "# import the necessary packages\n",
        "from keras.preprocessing.image import ImageDataGenerator\n",
        "from keras.preprocessing.image import img_to_array\n",
        "from keras.preprocessing.image import load_img\n",
        "import numpy as np\n",
        "import argparse\n",
        "\n",
        "arg_image = \"cursoDL/imagens/elephant.jpg\"\n",
        "\n",
        "# load the input image, convert it to a NumPy array, and then\n",
        "# reshape it to have an extra dimension\n",
        "print(\"[INFO] loading example image...\")\n",
        "image = load_img(arg_image)\n",
        "image = img_to_array(image)\n",
        "image = image.reshape((1,) + image.shape)"
      ],
      "execution_count": 2,
      "outputs": [
        {
          "output_type": "stream",
          "text": [
            "Using TensorFlow backend.\n"
          ],
          "name": "stderr"
        },
        {
          "output_type": "stream",
          "text": [
            "[INFO] loading example image...\n"
          ],
          "name": "stdout"
        }
      ]
    },
    {
      "metadata": {
        "id": "Cmg6aX_3I9OH",
        "colab_type": "code",
        "colab": {}
      },
      "cell_type": "code",
      "source": [
        "from keras.preprocessing.image import ImageDataGenerator\n",
        "\n",
        "generator = ImageDataGenerator(rescale = 1./255,\n",
        "                               width_shift_range=0.1,\n",
        "                               height_shift_range=0.1,\n",
        "                               rotation_range = 20,\n",
        "                               shear_range = 0.3,\n",
        "                               zoom_range = 0.3,\n",
        "                               horizontal_flip = True)"
      ],
      "execution_count": 0,
      "outputs": []
    },
    {
      "metadata": {
        "id": "pMA-y2FDJ1i9",
        "colab_type": "code",
        "colab": {}
      },
      "cell_type": "code",
      "source": [
        "#train = generator.flow_from_directory('cursoDL/imagens/datasets/animals',\n",
        "#                                      target_size = (128, 128),\n",
        "#                                      batch_size = 32,\n",
        "#                                      class_mode = 'binary')\n",
        "\n",
        "train = generator.flow(image, batch_size=1)"
      ],
      "execution_count": 0,
      "outputs": []
    },
    {
      "metadata": {
        "id": "PJs1S03LJ4jq",
        "colab_type": "code",
        "colab": {}
      },
      "cell_type": "code",
      "source": [
        "import matplotlib.pyplot as plt\n",
        "%matplotlib inline\n",
        "plt.figure(figsize=(12, 12))\n",
        "\n",
        "cont = 0\n",
        "for im in train:\n",
        "    \n",
        "    plt.subplot(4, 4, cont+1,xticks=[],yticks=[])\n",
        "    plt.imshow(im[0])\n",
        "    cont+=1\n",
        "    if cont==12:\n",
        "      break\n",
        "    "
      ],
      "execution_count": 0,
      "outputs": []
    },
    {
      "metadata": {
        "id": "mEzcdSYghQzG",
        "colab_type": "code",
        "colab": {}
      },
      "cell_type": "code",
      "source": [
        ""
      ],
      "execution_count": 0,
      "outputs": []
    }
  ]
}