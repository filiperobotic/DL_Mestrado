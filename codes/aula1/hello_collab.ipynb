{
  "nbformat": 4,
  "nbformat_minor": 0,
  "metadata": {
    "colab": {
      "name": "hello_collab.ipynb",
      "version": "0.3.2",
      "provenance": [],
      "collapsed_sections": [],
      "toc_visible": true,
      "include_colab_link": true
    },
    "kernelspec": {
      "name": "python3",
      "display_name": "Python 3"
    }
  },
  "cells": [
    {
      "cell_type": "markdown",
      "metadata": {
        "id": "view-in-github",
        "colab_type": "text"
      },
      "source": [
        "<a href=\"https://colab.research.google.com/github/filiperobotic/cursoDL/blob/master/hello_collab.ipynb\" target=\"_parent\"><img src=\"https://colab.research.google.com/assets/colab-badge.svg\" alt=\"Open In Colab\"/></a>"
      ]
    },
    {
      "metadata": {
        "id": "cZWqDgr26_5G",
        "colab_type": "text"
      },
      "cell_type": "markdown",
      "source": [
        "## Hello World\n",
        "\n",
        "A sua missão nessa tarefa é realizar 3 atividades:\n",
        "\n",
        "\n",
        "1.   Fazer um hello world em python\n",
        "2.   Criar um vetor de elementos e imprimir todos os elementos maiores que 5, usando um for.\n",
        "3.   Ler e mostrar uma imagem\n",
        "\n"
      ]
    }
  ]
}