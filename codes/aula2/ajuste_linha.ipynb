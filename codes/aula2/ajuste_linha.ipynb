{
  "nbformat": 4,
  "nbformat_minor": 0,
  "metadata": {
    "colab": {
      "name": "ajuste_linha.ipynb",
      "version": "0.3.2",
      "provenance": [],
      "collapsed_sections": [],
      "include_colab_link": true
    },
    "kernelspec": {
      "name": "python3",
      "display_name": "Python 3"
    }
  },
  "cells": [
    {
      "cell_type": "markdown",
      "metadata": {
        "id": "view-in-github",
        "colab_type": "text"
      },
      "source": [
        "<a href=\"https://colab.research.google.com/github/filiperobotic/cursoDL/blob/master/codes/aula1/ajuste_linha.ipynb\" target=\"_parent\"><img src=\"https://colab.research.google.com/assets/colab-badge.svg\" alt=\"Open In Colab\"/></a>"
      ]
    },
    {
      "metadata": {
        "id": "k_QkQCIgJBJZ",
        "colab_type": "code",
        "colab": {}
      },
      "cell_type": "code",
      "source": [
        "import numpy as np  \n",
        "import matplotlib.pyplot as plt  \n",
        "\n",
        "#função para plotar o gráfico\n",
        "def graph(formula, x_range, ls='-'):  \n",
        "    x = np.array(x_range)  \n",
        "    y = eval(formula)\n",
        "    plt.scatter(point[0], point[1], s=50, c='b')\n",
        "    plt.plot(x, y, ls=ls)  \n"
      ],
      "execution_count": 0,
      "outputs": []
    },
    {
      "metadata": {
        "id": "ZPfw5CI8ZrIc",
        "colab_type": "code",
        "colab": {}
      },
      "cell_type": "code",
      "source": [
        "#função de checagem se o ponto está dentro da região ou não\n",
        "\n",
        "def check(weight1, weight2, bias):\n",
        "  \n",
        "  #TODO  - retorna 1 se está na região e 0 caso contrário\n",
        "  return 0\n",
        "  "
      ],
      "execution_count": 0,
      "outputs": []
    },
    {
      "metadata": {
        "id": "N4UkSlTbPa1c",
        "colab_type": "code",
        "colab": {}
      },
      "cell_type": "code",
      "source": [
        "#parâmetros iniciais\n",
        "\n",
        "point = (1,1)\n",
        "init_weight1 = 3\n",
        "init_weight2 = 4\n",
        "init_bias = -10\n",
        "learning_rate = 0.1\n",
        "\n",
        "graph('(-init_weight1*x-init_bias)/init_weight2', range(0, 4),ls='--')\n",
        "\n",
        "plt.show()"
      ],
      "execution_count": 0,
      "outputs": []
    },
    {
      "metadata": {
        "id": "s4xPFiUBNkv9",
        "colab_type": "code",
        "colab": {}
      },
      "cell_type": "code",
      "source": [
        "#linha inicial\n",
        "graph('(-init_weight1*x-init_bias)/init_weight2', range(0, 4),ls='--')\n",
        "weight1 = init_weight1\n",
        "weight2 = init_weight2\n",
        "bias = init_bias\n",
        "\n",
        "#TODO Código para ajuste de linha e contagem de iterações\n",
        "\n",
        "\n",
        "#linha final\n",
        "graph('(-init_weight1*x-init_bias)/init_weight2', range(0, 4),ls='-')\n",
        "plt.show()\n"
      ],
      "execution_count": 0,
      "outputs": []
    },
    {
      "metadata": {
        "id": "GlInuCVVbGqA",
        "colab_type": "text"
      },
      "cell_type": "markdown",
      "source": [
        "E se passar muitas iterações, o que acontece? Como voltar?"
      ]
    },
    {
      "metadata": {
        "id": "sOEg-Yh4bNLC",
        "colab_type": "code",
        "colab": {}
      },
      "cell_type": "code",
      "source": [
        ""
      ],
      "execution_count": 0,
      "outputs": []
    }
  ]
}