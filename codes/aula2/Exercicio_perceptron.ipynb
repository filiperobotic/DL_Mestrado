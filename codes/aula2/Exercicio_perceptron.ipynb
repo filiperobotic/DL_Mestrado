{
  "nbformat": 4,
  "nbformat_minor": 0,
  "metadata": {
    "colab": {
      "name": "Exercicio_perceptron.ipynb",
      "provenance": [],
      "collapsed_sections": [],
      "toc_visible": true,
      "include_colab_link": true
    },
    "kernelspec": {
      "name": "python3",
      "display_name": "Python 3"
    }
  },
  "cells": [
    {
      "cell_type": "markdown",
      "metadata": {
        "id": "view-in-github",
        "colab_type": "text"
      },
      "source": [
        "<a href=\"https://colab.research.google.com/github/filiperobotic/DL_Mestrado/blob/master/codes/aula2/Exercicio_perceptron.ipynb\" target=\"_parent\"><img src=\"https://colab.research.google.com/assets/colab-badge.svg\" alt=\"Open In Colab\"/></a>"
      ]
    },
    {
      "cell_type": "code",
      "metadata": {
        "id": "uit-c0PAoO_l"
      },
      "source": [
        "!git clone https://github.com/filiperobotic/DL_Mestrado.git"
      ],
      "execution_count": null,
      "outputs": []
    },
    {
      "cell_type": "code",
      "metadata": {
        "id": "CaUpSw8aouhk"
      },
      "source": [
        "import matplotlib.pyplot as plt\n",
        "import numpy as np\n",
        "import pandas as pd\n",
        "\n",
        "#Some helper functions for plotting and drawing lines\n",
        "\n",
        "def plot_points(X, y):\n",
        "    admitted = X[np.argwhere(y==1)]\n",
        "    rejected = X[np.argwhere(y==0)]\n",
        "    plt.scatter([s[0][0] for s in rejected], [s[0][1] for s in rejected], s = 25, color = 'blue', edgecolor = 'k')\n",
        "    plt.scatter([s[0][0] for s in admitted], [s[0][1] for s in admitted], s = 25, color = 'red', edgecolor = 'k')\n",
        "\n",
        "def display(m, b, color='g--'):\n",
        "    plt.xlim(-0.05,1.05)\n",
        "    plt.ylim(-0.05,1.05)\n",
        "    x = np.arange(-10, 10, 0.1)\n",
        "    plt.plot(x, m*x+b, color)"
      ],
      "execution_count": 2,
      "outputs": []
    },
    {
      "cell_type": "markdown",
      "metadata": {
        "id": "90ay_kvdqJgx"
      },
      "source": [
        "## Lendo os dados"
      ]
    },
    {
      "cell_type": "code",
      "metadata": {
        "id": "3nAzeWoCqKaJ"
      },
      "source": [
        "data = pd.read_csv('DL_Mestrado/data.csv', header=None)\n",
        "X = np.array(data[[0,1]])\n",
        "y = np.array(data[2])\n",
        "plot_points(X,y)\n",
        "plt.show()"
      ],
      "execution_count": null,
      "outputs": []
    },
    {
      "cell_type": "markdown",
      "metadata": {
        "id": "ZJd2sfq_3T9-"
      },
      "source": [
        "## Construindo o Perceptron\n"
      ]
    },
    {
      "cell_type": "code",
      "metadata": {
        "id": "-C00dk1fsA5W"
      },
      "source": [
        "def perceptron(X, y,  eta, epochs):\n",
        "  \n",
        "  \n",
        "  # initialize the weight matrix and store the learning rate\n",
        "  N = X.shape[1] #number of inputs\n",
        "  W = np.random.randn(N + 1) / np.sqrt(N)\n",
        "    \n",
        "  # insert a column of 1's as the last entry in the feature\n",
        "  # matrix -- this little trick allows us to treat the bias\n",
        "  # as a trainable parameter within the weight matrix\n",
        "  X = np.c_[X, np.ones((X.shape[0]))]\n",
        "        \n",
        "  # loop over the desired number of epochs\n",
        "  for epoch in np.arange(0, epochs):\n",
        "    # loop over each individual data point\n",
        "    for (x, target) in zip(X, y):\n",
        "      \n",
        "      #TODO\n",
        "      #tip: use np.dot to multiply arrays and calculate the sum\n",
        "      #calcuate the error and update the weights\n",
        "      \n",
        "     \n",
        "    \n",
        "  return W"
      ],
      "execution_count": null,
      "outputs": []
    },
    {
      "cell_type": "code",
      "metadata": {
        "id": "p_F9ls4pqK38"
      },
      "source": [
        "weights = perceptron(X, y,  0.01, 100)\n",
        "\n",
        "# Plotting the solution boundary\n",
        "plt.title(\"Solution boundary\")\n",
        "display(-weights[0]/weights[1], -weights[2]/weights[1], 'black')\n",
        "\n",
        "# Plotting the data\n",
        "plot_points(X, y)\n",
        "plt.show()"
      ],
      "execution_count": null,
      "outputs": []
    }
  ]
}