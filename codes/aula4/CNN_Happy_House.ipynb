{
  "nbformat": 4,
  "nbformat_minor": 0,
  "metadata": {
    "colab": {
      "name": "CNN_Happy House.ipynb",
      "version": "0.3.2",
      "provenance": [],
      "collapsed_sections": [],
      "toc_visible": true,
      "include_colab_link": true
    },
    "kernelspec": {
      "name": "python3",
      "display_name": "Python 3"
    },
    "accelerator": "GPU"
  },
  "cells": [
    {
      "cell_type": "markdown",
      "metadata": {
        "id": "view-in-github",
        "colab_type": "text"
      },
      "source": [
        "<a href=\"https://colab.research.google.com/github/filiperobotic/cursoDL/blob/master/codes/aula3/CNN_Happy_House.ipynb\" target=\"_parent\"><img src=\"https://colab.research.google.com/assets/colab-badge.svg\" alt=\"Open In Colab\"/></a>"
      ]
    },
    {
      "metadata": {
        "id": "AWJLz2QvXRB4",
        "colab_type": "text"
      },
      "cell_type": "markdown",
      "source": [
        "# Prática Keras - A casa feliz\n",
        "\n",
        "Nesse exercício você ira trabalhar no problema \"Casa Feliz\".\n",
        "\n"
      ]
    },
    {
      "metadata": {
        "id": "MZO2KBd2Xa4Q",
        "colab_type": "code",
        "colab": {}
      },
      "cell_type": "code",
      "source": [
        "!git clone https://github.com/filiperobotic/cursoDL.git\n",
        "!git clone https://github.com/filiperobotic/datasets.git"
      ],
      "execution_count": 0,
      "outputs": []
    },
    {
      "metadata": {
        "id": "JztItqUBXRB7",
        "colab_type": "code",
        "colab": {}
      },
      "cell_type": "code",
      "source": [
        "import numpy as np\n",
        "from keras import layers\n",
        "from keras.layers import Input, Dense, Activation, ZeroPadding2D, BatchNormalization, Flatten, Conv2D\n",
        "from keras.layers import AveragePooling2D, MaxPooling2D, Dropout, GlobalMaxPooling2D, GlobalAveragePooling2D\n",
        "from keras.models import Model\n",
        "from keras.preprocessing import image\n",
        "from keras.utils import layer_utils\n",
        "from keras.utils.data_utils import get_file\n",
        "from keras.applications.imagenet_utils import preprocess_input\n",
        "import pydot\n",
        "from IPython.display import SVG\n",
        "from keras.utils.vis_utils import model_to_dot\n",
        "from keras.utils import plot_model\n",
        "from datasets.kt_utils import *\n",
        "\n",
        "import keras.backend as K\n",
        "K.set_image_data_format('channels_last')\n",
        "import matplotlib.pyplot as plt\n",
        "from matplotlib.pyplot import imshow\n",
        "\n",
        "%matplotlib inline"
      ],
      "execution_count": 0,
      "outputs": []
    },
    {
      "metadata": {
        "id": "WKA88AKTXRCQ",
        "colab_type": "text"
      },
      "cell_type": "markdown",
      "source": [
        "## 1 - A Casa Feliz\n",
        "\n",
        "Para suas próximas férias, você decidiu passar a semana com 5 amigos. É uma casa muito boa com muitas coisas para fazer por perto. Mas o mais importante benefício é que todo mundo se comprometeu a estar feliz enquanto estiverem na casa. Então, todo mundo que quiser entrar na casa tem que provar o seu estado de alegria.\n",
        "\n",
        "\n",
        "<img src=\"https://github.com/filiperobotic/cursoDL/blob/master/imagens/happy-house.jpg?raw=1\" style=\"width:350px;height:270px;\">\n",
        "<caption><center> <u> <font color='purple'> **Figure 1** </u><font color='purple'>  : **the Happy House**</center></caption>\n",
        "\n",
        "Como um especialista de deep learning, para assegurar que o estado de \"alegria\" foi rigorosamente aplicado, você irá desenvolver um algoritmo que usa a foto das pessoas através da câmera da porta de entrada para checar se a pessoa está feliz ou não. A porta deverá abrir apenas se a pessoa estiver feliz!!!\n",
        "  \n",
        "Você coletou fotos dos seus amigos e suas, tiradas da câmera da porta de entrara. A base de dados está rotulada.\n",
        "\n",
        "<img src=\"https://github.com/filiperobotic/cursoDL/blob/master/imagens/house-members.png?raw=1\" style=\"width:550px;height:250px;\">\n",
        "\n",
        "Execute os seguintes comandos para normalizar a base e observar o formato dela."
      ]
    },
    {
      "metadata": {
        "id": "QBTOPaf5XRCS",
        "colab_type": "code",
        "colab": {}
      },
      "cell_type": "code",
      "source": [
        "X_train_orig, Y_train_orig, X_test_orig, Y_test_orig, classes = load_dataset()\n",
        "\n",
        "# Normalize image vectors\n",
        "X_train = X_train_orig/255.\n",
        "X_test = X_test_orig/255.\n",
        "\n",
        "# Reshape\n",
        "Y_train = Y_train_orig.T\n",
        "Y_test = Y_test_orig.T\n",
        "\n",
        "print (\"number of training examples = \" + str(X_train.shape[0]))\n",
        "print (\"number of test examples = \" + str(X_test.shape[0]))\n",
        "print (\"X_train shape: \" + str(X_train.shape))\n",
        "print (\"Y_train shape: \" + str(Y_train.shape))\n",
        "print (\"X_test shape: \" + str(X_test.shape))\n",
        "print (\"Y_test shape: \" + str(Y_test.shape))"
      ],
      "execution_count": 0,
      "outputs": []
    },
    {
      "metadata": {
        "id": "GJBR9z7vXRCW",
        "colab_type": "text"
      },
      "cell_type": "markdown",
      "source": [
        "**Detalhes da base \"Happy\" **:\n",
        "- Imagens são da forma (64,64,3)\n",
        "- Treinamento: 600 imagens\n",
        "- Teste: 150 imagens\n"
      ]
    },
    {
      "metadata": {
        "id": "31B3DNeoXRCY",
        "colab_type": "text"
      },
      "cell_type": "markdown",
      "source": [
        "## 2 - Construindo um modelo no Keras\n",
        "\n",
        "Keras é muito bom para prototipação rápida. Em apenas poouco tempo é possível construir um modelo que obtém excelentes resultados.\n",
        "\n",
        "Aqui está um exemplo de modelo no Keras:\n",
        "\n",
        "```python\n",
        "def model(input_shape):\n",
        "    # Define the input placeholder as a tensor with shape input_shape. Think of this as your input image!\n",
        "    X_input = Input(input_shape)\n",
        "\n",
        "    # Zero-Padding: pads the border of X_input with zeroes\n",
        "    X = ZeroPadding2D((3, 3))(X_input)\n",
        "\n",
        "    # CONV -> BN -> RELU Block applied to X\n",
        "    X = Conv2D(32, (7, 7), strides = (1, 1), name = 'conv0')(X)\n",
        "    X = BatchNormalization(axis = 3, name = 'bn0')(X)\n",
        "    X = Activation('relu')(X)\n",
        "\n",
        "    # MAXPOOL\n",
        "    X = MaxPooling2D((2, 2), name='max_pool')(X)\n",
        "\n",
        "    # FLATTEN X (means convert it to a vector) + FULLYCONNECTED\n",
        "    X = Flatten()(X)\n",
        "    X = Dense(1, activation='sigmoid', name='fc')(X)\n",
        "\n",
        "    # Create model. This creates your Keras model instance, you'll use this instance to train/test the model.\n",
        "    model = Model(inputs = X_input, outputs = X, name='HappyModel')\n",
        "    \n",
        "    return model\n",
        "```\n",
        "\n",
        "\n",
        "\n",
        "**Exercício**: Implemente o modelo 'HappyModel()'. Sugerimos começar a implementação usando o modelo acima com a arquitetura que sugerimos. Posteriormente, volte e tente variar a arquitetura. Você pode testar outras camadas como AveragePooling2D, Dropout, BatchNormalization.\n"
      ]
    },
    {
      "metadata": {
        "id": "UUix4GnvXRCZ",
        "colab_type": "code",
        "colab": {}
      },
      "cell_type": "code",
      "source": [
        "# FUNCTION: HappyModel\n",
        "\n",
        "def HappyModel(input_shape):\n",
        "    \"\"\"\n",
        "    Implementation of the HappyModel.\n",
        "    \n",
        "    Arguments:\n",
        "    input_shape -- shape of the images of the dataset\n",
        "\n",
        "    Returns:\n",
        "    model -- a Model() instance in Keras\n",
        "    \"\"\"\n",
        "    \n",
        "    ### START CODE HERE ###\n",
        "    # Feel free to use the suggested outline in the text above to get started, and run through the whole\n",
        "    # exercise (including the later portions of this notebook) once. The come back also try out other\n",
        "    # network architectures as well. \n",
        "        # Define the input placeholder as a tensor with shape input_shape. Think of this as your input image!\n",
        "    \n",
        "\n",
        "    \n",
        "    ### END CODE HERE ###\n",
        "    \n",
        "    return model"
      ],
      "execution_count": 0,
      "outputs": []
    },
    {
      "metadata": {
        "id": "9wYTyt3uXRCd",
        "colab_type": "text"
      },
      "cell_type": "markdown",
      "source": [
        "Você contruiu uma função para descrever o modelo. Par atreinar e testar o modelo, são necessários 4 passos no Keras:\n",
        "1. Criar o modelo chamando a função acima\n",
        "2. Compilar o modelo chamando  `model.compile(optimizer = \"...\", loss = \"...\", metrics = [\"accuracy\"])`\n",
        "3. Treinar o modelo no conjunto de treino chamando `model.fit(x = ..., y = ..., epochs = ..., batch_size = ...)`\n",
        "4. Testar o modelo no conjunto de teste chamando `model.evaluate(x = ..., y = ...)`\n",
        "\n",
        "\n",
        "\n",
        "**Exercício**: Implemente o passo 1 (criar o modelo)."
      ]
    },
    {
      "metadata": {
        "id": "Y_vGFW-YXRCf",
        "colab_type": "code",
        "colab": {}
      },
      "cell_type": "code",
      "source": [
        "### START CODE HERE ### (1 line)\n",
        "happyModel = \n",
        "### END CODE HERE ###"
      ],
      "execution_count": 0,
      "outputs": []
    },
    {
      "metadata": {
        "id": "K_S9WxW9XRCj",
        "colab_type": "text"
      },
      "cell_type": "markdown",
      "source": [
        "**Exercício**: Implemente o passo2 (compliar o modelo). Escolha os 3 argumentos de `compile()` cuidadosamente. Dica: esse é um problema de classificação binária."
      ]
    },
    {
      "metadata": {
        "id": "SzxzyRRrXRCk",
        "colab_type": "code",
        "colab": {}
      },
      "cell_type": "code",
      "source": [
        "### START CODE HERE ### (1 line)\n",
        "\n",
        "### END CODE HERE ###"
      ],
      "execution_count": 0,
      "outputs": []
    },
    {
      "metadata": {
        "id": "QZEfWG4wXRCn",
        "colab_type": "text"
      },
      "cell_type": "markdown",
      "source": [
        "**Exercício**: Implemente o passo 3 (treinar o modelo). Escolha o número de épocas e o batch size."
      ]
    },
    {
      "metadata": {
        "id": "x6OFBYY2XRCp",
        "colab_type": "code",
        "colab": {}
      },
      "cell_type": "code",
      "source": [
        "### START CODE HERE ### (1 line)\n",
        "\n",
        "### END CODE HERE ###"
      ],
      "execution_count": 0,
      "outputs": []
    },
    {
      "metadata": {
        "id": "FpCuNdN9XRCv",
        "colab_type": "text"
      },
      "cell_type": "markdown",
      "source": [
        "\n",
        "\n",
        "**Exercício**: Implemente o passo 4. (testar/avaliar o modelo)"
      ]
    },
    {
      "metadata": {
        "scrolled": true,
        "id": "BwKbpCHGXRCw",
        "colab_type": "code",
        "colab": {}
      },
      "cell_type": "code",
      "source": [
        "### START CODE HERE ### (1 line)\n",
        "preds = \n",
        "### END CODE HERE ###\n",
        "print()\n",
        "print (\"Loss = \" + str(preds[0]))\n",
        "print (\"Test Accuracy = \" + str(preds[1]))"
      ],
      "execution_count": 0,
      "outputs": []
    },
    {
      "metadata": {
        "id": "AtkKC41_XRC0",
        "colab_type": "text"
      },
      "cell_type": "markdown",
      "source": [
        "Se seu  `happyModel()` funcionou, você deverá observar uma acurácia muito melhor que o método aleatório (50%) nons conjuntos de treino e teste. É esperado que você consiga uma acurácia de pelo menos 75%. \n",
        "\n",
        "\n",
        "**Observação**: Se você realizar ajuste de hiperparâmetro no seu modelo, o conjunto de teste na verdade se torna seu conjunto de validação, e seu modelo pode acabar decorando (overfitting) o conjunto de teste. Mas por enquanto, apenas para fins de exercício, não vamos nos preocupar com isso.\n"
      ]
    },
    {
      "metadata": {
        "id": "4m-LmoMnXRC5",
        "colab_type": "text"
      },
      "cell_type": "markdown",
      "source": [
        "## 3 - Teste com sua própria imagem (Opcional)\n",
        "\n",
        "Veja se você seria capaz de entrar na casa. Para isso:\n",
        "    1. Faça o upload da sua imagem\n",
        "    3. Escreva o caminho dela no código abaixo\n",
        "    4. Rode o código abaixo e verifique se o algoritmo está certo ( é infeliz, 1 é feliz)!\n",
        "    \n"
      ]
    },
    {
      "metadata": {
        "id": "DSGNuytbXRC6",
        "colab_type": "code",
        "colab": {}
      },
      "cell_type": "code",
      "source": [
        "### START CODE HERE ###\n",
        "img_path = 'imagem.jpg'\n",
        "### END CODE HERE ###\n",
        "img = image.load_img(img_path, target_size=(64, 64))\n",
        "fig=plt.figure(figsize=(3,3))\n",
        "ax = fig.add_subplot(1,1,1, xticks=[], yticks=[])\n",
        "ax.imshow(img)\n",
        "\n",
        "x = image.img_to_array(img)\n",
        "x = np.expand_dims(x, axis=0)\n",
        "x = preprocess_input(x)\n",
        "\n",
        "print(happyModel.predict(x))"
      ],
      "execution_count": 0,
      "outputs": []
    },
    {
      "metadata": {
        "id": "7reWcKLkXRC-",
        "colab_type": "text"
      },
      "cell_type": "markdown",
      "source": [
        "## 4 - Other useful functions in Keras (Optional)\n",
        "\n",
        "Two other basic features of Keras that you'll find useful are:\n",
        "- `model.summary()`: prints the details of your layers in a table with the sizes of its inputs/outputs\n",
        "- `plot_model()`: plots your graph in a nice layout. You can even save it as \".png\" using SVG() if you'd like to share it on social media ;). It is saved in \"File\" then \"Open...\" in the upper bar of the notebook.\n",
        "\n",
        "Run the following code."
      ]
    },
    {
      "metadata": {
        "scrolled": false,
        "id": "kG2Yt6G7XRC_",
        "colab_type": "code",
        "outputId": "6be428d3-f55b-42dc-c1ac-f162f0a337fe",
        "colab": {}
      },
      "cell_type": "code",
      "source": [
        "happyModel.summary()"
      ],
      "execution_count": 0,
      "outputs": [
        {
          "output_type": "stream",
          "text": [
            "_________________________________________________________________\n",
            "Layer (type)                 Output Shape              Param #   \n",
            "=================================================================\n",
            "input_1 (InputLayer)         (None, 64, 64, 3)         0         \n",
            "_________________________________________________________________\n",
            "zero_padding2d_1 (ZeroPaddin (None, 70, 70, 3)         0         \n",
            "_________________________________________________________________\n",
            "conv0 (Conv2D)               (None, 64, 64, 32)        4736      \n",
            "_________________________________________________________________\n",
            "bn0 (BatchNormalization)     (None, 64, 64, 32)        128       \n",
            "_________________________________________________________________\n",
            "activation_1 (Activation)    (None, 64, 64, 32)        0         \n",
            "_________________________________________________________________\n",
            "max_pool (MaxPooling2D)      (None, 32, 32, 32)        0         \n",
            "_________________________________________________________________\n",
            "flatten_1 (Flatten)          (None, 32768)             0         \n",
            "_________________________________________________________________\n",
            "fc (Dense)                   (None, 1)                 32769     \n",
            "=================================================================\n",
            "Total params: 37,633\n",
            "Trainable params: 37,569\n",
            "Non-trainable params: 64\n",
            "_________________________________________________________________\n"
          ],
          "name": "stdout"
        }
      ]
    },
    {
      "metadata": {
        "id": "QoT3VnVDXRDF",
        "colab_type": "code",
        "outputId": "48f64d93-030a-41d3-fa6d-9e626a357b63",
        "colab": {}
      },
      "cell_type": "code",
      "source": [
        "plot_model(happyModel, to_file='HappyModel.png')\n",
        "SVG(model_to_dot(happyModel).create(prog='dot', format='svg'))"
      ],
      "execution_count": 0,
      "outputs": [
        {
          "output_type": "execute_result",
          "data": {
            "image/svg+xml": "<svg height=\"556pt\" viewBox=\"0.00 0.00 225.00 556.00\" width=\"225pt\" xmlns=\"http://www.w3.org/2000/svg\" xmlns:xlink=\"http://www.w3.org/1999/xlink\">\n<g class=\"graph\" id=\"graph0\" transform=\"scale(1 1) rotate(0) translate(4 552)\">\n<title>G</title>\n<polygon fill=\"white\" points=\"-4,4 -4,-552 221,-552 221,4 -4,4\" stroke=\"none\"/>\n<!-- 140576771954392 -->\n<g class=\"node\" id=\"node1\"><title>140576771954392</title>\n<polygon fill=\"none\" points=\"45.5,-511.5 45.5,-547.5 171.5,-547.5 171.5,-511.5 45.5,-511.5\" stroke=\"black\"/>\n<text font-family=\"Times,serif\" font-size=\"14.00\" text-anchor=\"middle\" x=\"108.5\" y=\"-525.8\">input_1: InputLayer</text>\n</g>\n<!-- 140576771915392 -->\n<g class=\"node\" id=\"node2\"><title>140576771915392</title>\n<polygon fill=\"none\" points=\"0,-438.5 0,-474.5 217,-474.5 217,-438.5 0,-438.5\" stroke=\"black\"/>\n<text font-family=\"Times,serif\" font-size=\"14.00\" text-anchor=\"middle\" x=\"108.5\" y=\"-452.8\">zero_padding2d_1: ZeroPadding2D</text>\n</g>\n<!-- 140576771954392&#45;&gt;140576771915392 -->\n<g class=\"edge\" id=\"edge1\"><title>140576771954392-&gt;140576771915392</title>\n<path d=\"M108.5,-511.313C108.5,-503.289 108.5,-493.547 108.5,-484.569\" fill=\"none\" stroke=\"black\"/>\n<polygon fill=\"black\" points=\"112,-484.529 108.5,-474.529 105,-484.529 112,-484.529\" stroke=\"black\"/>\n</g>\n<!-- 140576771915448 -->\n<g class=\"node\" id=\"node3\"><title>140576771915448</title>\n<polygon fill=\"none\" points=\"56,-365.5 56,-401.5 161,-401.5 161,-365.5 56,-365.5\" stroke=\"black\"/>\n<text font-family=\"Times,serif\" font-size=\"14.00\" text-anchor=\"middle\" x=\"108.5\" y=\"-379.8\">conv0: Conv2D</text>\n</g>\n<!-- 140576771915392&#45;&gt;140576771915448 -->\n<g class=\"edge\" id=\"edge2\"><title>140576771915392-&gt;140576771915448</title>\n<path d=\"M108.5,-438.313C108.5,-430.289 108.5,-420.547 108.5,-411.569\" fill=\"none\" stroke=\"black\"/>\n<polygon fill=\"black\" points=\"112,-411.529 108.5,-401.529 105,-411.529 112,-411.529\" stroke=\"black\"/>\n</g>\n<!-- 140576771912480 -->\n<g class=\"node\" id=\"node4\"><title>140576771912480</title>\n<polygon fill=\"none\" points=\"31.5,-292.5 31.5,-328.5 185.5,-328.5 185.5,-292.5 31.5,-292.5\" stroke=\"black\"/>\n<text font-family=\"Times,serif\" font-size=\"14.00\" text-anchor=\"middle\" x=\"108.5\" y=\"-306.8\">bn0: BatchNormalization</text>\n</g>\n<!-- 140576771915448&#45;&gt;140576771912480 -->\n<g class=\"edge\" id=\"edge3\"><title>140576771915448-&gt;140576771912480</title>\n<path d=\"M108.5,-365.313C108.5,-357.289 108.5,-347.547 108.5,-338.569\" fill=\"none\" stroke=\"black\"/>\n<polygon fill=\"black\" points=\"112,-338.529 108.5,-328.529 105,-338.529 112,-338.529\" stroke=\"black\"/>\n</g>\n<!-- 140576771912872 -->\n<g class=\"node\" id=\"node5\"><title>140576771912872</title>\n<polygon fill=\"none\" points=\"35,-219.5 35,-255.5 182,-255.5 182,-219.5 35,-219.5\" stroke=\"black\"/>\n<text font-family=\"Times,serif\" font-size=\"14.00\" text-anchor=\"middle\" x=\"108.5\" y=\"-233.8\">activation_1: Activation</text>\n</g>\n<!-- 140576771912480&#45;&gt;140576771912872 -->\n<g class=\"edge\" id=\"edge4\"><title>140576771912480-&gt;140576771912872</title>\n<path d=\"M108.5,-292.313C108.5,-284.289 108.5,-274.547 108.5,-265.569\" fill=\"none\" stroke=\"black\"/>\n<polygon fill=\"black\" points=\"112,-265.529 108.5,-255.529 105,-265.529 112,-265.529\" stroke=\"black\"/>\n</g>\n<!-- 140576771956688 -->\n<g class=\"node\" id=\"node6\"><title>140576771956688</title>\n<polygon fill=\"none\" points=\"26.5,-146.5 26.5,-182.5 190.5,-182.5 190.5,-146.5 26.5,-146.5\" stroke=\"black\"/>\n<text font-family=\"Times,serif\" font-size=\"14.00\" text-anchor=\"middle\" x=\"108.5\" y=\"-160.8\">max_pool: MaxPooling2D</text>\n</g>\n<!-- 140576771912872&#45;&gt;140576771956688 -->\n<g class=\"edge\" id=\"edge5\"><title>140576771912872-&gt;140576771956688</title>\n<path d=\"M108.5,-219.313C108.5,-211.289 108.5,-201.547 108.5,-192.569\" fill=\"none\" stroke=\"black\"/>\n<polygon fill=\"black\" points=\"112,-192.529 108.5,-182.529 105,-192.529 112,-192.529\" stroke=\"black\"/>\n</g>\n<!-- 140576771655720 -->\n<g class=\"node\" id=\"node7\"><title>140576771655720</title>\n<polygon fill=\"none\" points=\"54,-73.5 54,-109.5 163,-109.5 163,-73.5 54,-73.5\" stroke=\"black\"/>\n<text font-family=\"Times,serif\" font-size=\"14.00\" text-anchor=\"middle\" x=\"108.5\" y=\"-87.8\">flatten_1: Flatten</text>\n</g>\n<!-- 140576771956688&#45;&gt;140576771655720 -->\n<g class=\"edge\" id=\"edge6\"><title>140576771956688-&gt;140576771655720</title>\n<path d=\"M108.5,-146.313C108.5,-138.289 108.5,-128.547 108.5,-119.569\" fill=\"none\" stroke=\"black\"/>\n<polygon fill=\"black\" points=\"112,-119.529 108.5,-109.529 105,-119.529 112,-119.529\" stroke=\"black\"/>\n</g>\n<!-- 140576771230632 -->\n<g class=\"node\" id=\"node8\"><title>140576771230632</title>\n<polygon fill=\"none\" points=\"74,-0.5 74,-36.5 143,-36.5 143,-0.5 74,-0.5\" stroke=\"black\"/>\n<text font-family=\"Times,serif\" font-size=\"14.00\" text-anchor=\"middle\" x=\"108.5\" y=\"-14.8\">fc: Dense</text>\n</g>\n<!-- 140576771655720&#45;&gt;140576771230632 -->\n<g class=\"edge\" id=\"edge7\"><title>140576771655720-&gt;140576771230632</title>\n<path d=\"M108.5,-73.3129C108.5,-65.2895 108.5,-55.5475 108.5,-46.5691\" fill=\"none\" stroke=\"black\"/>\n<polygon fill=\"black\" points=\"112,-46.5288 108.5,-36.5288 105,-46.5289 112,-46.5288\" stroke=\"black\"/>\n</g>\n</g>\n</svg>",
            "text/plain": [
              "<IPython.core.display.SVG object>"
            ]
          },
          "metadata": {
            "tags": []
          },
          "execution_count": 10
        }
      ]
    }
  ]
}