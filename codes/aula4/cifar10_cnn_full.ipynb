{
  "nbformat": 4,
  "nbformat_minor": 0,
  "metadata": {
    "colab": {
      "name": "cifar10_cnn_full.ipynb",
      "version": "0.3.2",
      "provenance": [],
      "collapsed_sections": [],
      "include_colab_link": true
    },
    "kernelspec": {
      "name": "python3",
      "display_name": "Python 3"
    },
    "accelerator": "GPU"
  },
  "cells": [
    {
      "cell_type": "markdown",
      "metadata": {
        "id": "view-in-github",
        "colab_type": "text"
      },
      "source": [
        "<a href=\"https://colab.research.google.com/github/filiperobotic/cursoDL/blob/master/codes/aula3/cifar10_cnn_full.ipynb\" target=\"_parent\"><img src=\"https://colab.research.google.com/assets/colab-badge.svg\" alt=\"Open In Colab\"/></a>"
      ]
    },
    {
      "metadata": {
        "deletable": true,
        "editable": true,
        "id": "kwu9bqoujHo5",
        "colab_type": "text"
      },
      "cell_type": "markdown",
      "source": [
        "\n",
        "\n",
        "## Convolutional Neural Networks\n",
        "\n",
        "---\n",
        "\n",
        "Neste exercício iremos treinar uma CNN para classificar imagens da base CIFAR-10.\n",
        "\n",
        "### 1. Carregar base CIFAR-10 "
      ]
    },
    {
      "metadata": {
        "deletable": true,
        "editable": true,
        "id": "1SE6S3rcjHo8",
        "colab_type": "code",
        "colab": {}
      },
      "cell_type": "code",
      "source": [
        ""
      ],
      "execution_count": 0,
      "outputs": []
    },
    {
      "metadata": {
        "deletable": true,
        "editable": true,
        "id": "oyFieymejHpF",
        "colab_type": "text"
      },
      "cell_type": "markdown",
      "source": [
        "### 2. Visualizar as 24 primeiras imagens de treino"
      ]
    },
    {
      "metadata": {
        "deletable": true,
        "editable": true,
        "id": "-W-7RS3ljHpG",
        "colab_type": "code",
        "colab": {}
      },
      "cell_type": "code",
      "source": [
        ""
      ],
      "execution_count": 0,
      "outputs": []
    },
    {
      "metadata": {
        "deletable": true,
        "editable": true,
        "id": "WJzltBvEjHpL",
        "colab_type": "text"
      },
      "cell_type": "markdown",
      "source": [
        "### 3. Reescalar as imagens dividindo cada pixel de cada imagem por 255"
      ]
    },
    {
      "metadata": {
        "deletable": true,
        "editable": true,
        "id": "ipsu0dkmjHpM",
        "colab_type": "code",
        "colab": {}
      },
      "cell_type": "code",
      "source": [
        ""
      ],
      "execution_count": 0,
      "outputs": []
    },
    {
      "metadata": {
        "deletable": true,
        "editable": true,
        "id": "1dpUt6s8jHpQ",
        "colab_type": "text"
      },
      "cell_type": "markdown",
      "source": [
        "### 4.  Dividir a base em conjuntos de Treino, Validação e Teste"
      ]
    },
    {
      "metadata": {
        "deletable": true,
        "editable": true,
        "id": "At_U2r2cjHpR",
        "colab_type": "code",
        "colab": {}
      },
      "cell_type": "code",
      "source": [
        ""
      ],
      "execution_count": 0,
      "outputs": []
    },
    {
      "metadata": {
        "deletable": true,
        "editable": true,
        "id": "ho5_9c7DjHpV",
        "colab_type": "text"
      },
      "cell_type": "markdown",
      "source": [
        "### 5. Definir o Modelo da Arquitetura"
      ]
    },
    {
      "metadata": {
        "deletable": true,
        "editable": true,
        "id": "vmVAdJowjHpX",
        "colab_type": "code",
        "colab": {}
      },
      "cell_type": "code",
      "source": [
        "\n",
        "\n"
      ],
      "execution_count": 0,
      "outputs": []
    },
    {
      "metadata": {
        "deletable": true,
        "editable": true,
        "id": "t13qmso5jHpb",
        "colab_type": "text"
      },
      "cell_type": "markdown",
      "source": [
        "### 6. Compilar o Modelo"
      ]
    },
    {
      "metadata": {
        "deletable": true,
        "editable": true,
        "id": "66FyWi5xjHpc",
        "colab_type": "code",
        "colab": {}
      },
      "cell_type": "code",
      "source": [
        ""
      ],
      "execution_count": 0,
      "outputs": []
    },
    {
      "metadata": {
        "deletable": true,
        "editable": true,
        "id": "eAnskIh0jHph",
        "colab_type": "text"
      },
      "cell_type": "markdown",
      "source": [
        "### 7. Treinar o Modelo"
      ]
    },
    {
      "metadata": {
        "deletable": true,
        "editable": true,
        "scrolled": false,
        "id": "x2izt61zjHpi",
        "colab_type": "code",
        "colab": {}
      },
      "cell_type": "code",
      "source": [
        ""
      ],
      "execution_count": 0,
      "outputs": []
    },
    {
      "metadata": {
        "deletable": true,
        "editable": true,
        "id": "29LbZJ9BjHpm",
        "colab_type": "text"
      },
      "cell_type": "markdown",
      "source": [
        "### 8. Carregar o Modelo com a melhor acurácia no conjunto de Validação"
      ]
    },
    {
      "metadata": {
        "deletable": true,
        "editable": true,
        "id": "w1vLHVtqjHpn",
        "colab_type": "code",
        "colab": {}
      },
      "cell_type": "code",
      "source": [
        ""
      ],
      "execution_count": 0,
      "outputs": []
    },
    {
      "metadata": {
        "deletable": true,
        "editable": true,
        "id": "cca_BkzejHps",
        "colab_type": "text"
      },
      "cell_type": "markdown",
      "source": [
        "### 9. Calcular a acurácia no conjunto de teste"
      ]
    },
    {
      "metadata": {
        "deletable": true,
        "editable": true,
        "id": "K9srptQ9jHpt",
        "colab_type": "code",
        "colab": {}
      },
      "cell_type": "code",
      "source": [
        ""
      ],
      "execution_count": 0,
      "outputs": []
    },
    {
      "metadata": {
        "deletable": true,
        "editable": true,
        "id": "NJlwBbjKjHpx",
        "colab_type": "text"
      },
      "cell_type": "markdown",
      "source": [
        "### 10. Visualizar algumas predições\n",
        "\n"
      ]
    },
    {
      "metadata": {
        "deletable": true,
        "editable": true,
        "id": "f0_bydDCjHpy",
        "colab_type": "code",
        "colab": {}
      },
      "cell_type": "code",
      "source": [
        "# get predictions on the test set\n",
        "y_hat = model.predict(x_test)\n",
        "\n",
        "# define text labels (source: https://www.cs.toronto.edu/~kriz/cifar.html)\n",
        "cifar10_labels = ['airplane', 'automobile', 'bird', 'cat', 'deer', 'dog', 'frog', 'horse', 'ship', 'truck']"
      ],
      "execution_count": 0,
      "outputs": []
    },
    {
      "metadata": {
        "deletable": true,
        "editable": true,
        "id": "CgWMpg_2jHp2",
        "colab_type": "code",
        "colab": {}
      },
      "cell_type": "code",
      "source": [
        "# plot a random sample of test images, their predicted labels, and ground truth\n",
        "fig = plt.figure(figsize=(20, 8))\n",
        "for i, idx in enumerate(np.random.choice(x_test.shape[0], size=32, replace=False)):\n",
        "    ax = fig.add_subplot(4, 8, i + 1, xticks=[], yticks=[])\n",
        "    ax.imshow(np.squeeze(x_test[idx]))\n",
        "    pred_idx = np.argmax(y_hat[idx])\n",
        "    true_idx = np.argmax(y_test[idx])\n",
        "    ax.set_title(\"{} ({})\".format(cifar10_labels[pred_idx], cifar10_labels[true_idx]),\n",
        "                 color=(\"green\" if pred_idx == true_idx else \"red\"))"
      ],
      "execution_count": 0,
      "outputs": []
    },
    {
      "metadata": {
        "id": "HE2jHD2qC2uj",
        "colab_type": "code",
        "colab": {}
      },
      "cell_type": "code",
      "source": [
        ""
      ],
      "execution_count": 0,
      "outputs": []
    }
  ]
}