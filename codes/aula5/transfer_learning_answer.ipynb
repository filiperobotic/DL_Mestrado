{
  "nbformat": 4,
  "nbformat_minor": 0,
  "metadata": {
    "colab": {
      "name": "transfer_learning_answer.ipynb",
      "version": "0.3.2",
      "provenance": [],
      "include_colab_link": true
    },
    "kernelspec": {
      "name": "python3",
      "display_name": "Python 3"
    },
    "accelerator": "GPU"
  },
  "cells": [
    {
      "cell_type": "markdown",
      "metadata": {
        "id": "view-in-github",
        "colab_type": "text"
      },
      "source": [
        "<a href=\"https://colab.research.google.com/github/filiperobotic/cursoDL/blob/master/codes/aula4/transfer_learning_answer.ipynb\" target=\"_parent\"><img src=\"https://colab.research.google.com/assets/colab-badge.svg\" alt=\"Open In Colab\"/></a>"
      ]
    },
    {
      "metadata": {
        "id": "vlluTRxKvimQ",
        "colab_type": "code",
        "colab": {}
      },
      "cell_type": "code",
      "source": [
        "!git clone https://github.com/filiperobotic/cursoDL.git"
      ],
      "execution_count": 0,
      "outputs": []
    },
    {
      "metadata": {
        "id": "9A4Elwdmvsbu",
        "colab_type": "code",
        "colab": {}
      },
      "cell_type": "code",
      "source": [
        "# import the necessary packages\n",
        "from sklearn.preprocessing import LabelBinarizer\n",
        "from keras import applications\n",
        "from keras.layers import Input\n",
        "from keras.layers import Dropout, Flatten, Dense, GlobalAveragePooling2D\n",
        "from keras.models import Sequential, Model\n",
        "from sklearn.model_selection import train_test_split\n",
        "from sklearn.metrics import classification_report\n",
        "from cursoDL.codes.aula4.preprocessing import ImageToArrayPreprocessor\n",
        "from cursoDL.codes.aula4.preprocessing import SimplePreprocessor\n",
        "from cursoDL.codes.aula4.datasets import SimpleDatasetLoader\n",
        "#from pyimagesearch.nn.conv import ShallowNet\n",
        "from keras.optimizers import SGD\n",
        "from imutils import paths\n",
        "import matplotlib.pyplot as plt\n",
        "import numpy as np"
      ],
      "execution_count": 0,
      "outputs": []
    },
    {
      "metadata": {
        "id": "Agc-gjTTcwue",
        "colab_type": "code",
        "colab": {}
      },
      "cell_type": "code",
      "source": [
        "img_width, img_height = 48, 48\n",
        "\n",
        "model = applications.VGG16(weights = \"imagenet\", include_top=False, input_shape=(img_width, img_height, 3))"
      ],
      "execution_count": 0,
      "outputs": []
    },
    {
      "metadata": {
        "id": "jlD8Jqgvc_6A",
        "colab_type": "code",
        "colab": {
          "base_uri": "https://localhost:8080/",
          "height": 70
        },
        "outputId": "e408446b-6ab2-43b6-cfc9-fee83fbb4a25"
      },
      "cell_type": "code",
      "source": [
        "# Freeze the layers which you don't want to train. Here I am freezing the first 5 layers.\n",
        "# for layer in model.layers[:5]:\n",
        "for layer in model.layers:\n",
        "  layer.trainable = False\n",
        "  \n",
        "#Adding custom layers\n",
        "x = model.output\n",
        "x = Flatten()(x)\n",
        "x = Dense(256, activation=\"relu\")(x)\n",
        "predictions = Dense(3, activation=\"softmax\")(x)\n",
        "\n",
        "# creating the final model\n",
        "model_final = Model(input = model.input, output = predictions)\n",
        "model = model_final"
      ],
      "execution_count": 11,
      "outputs": [
        {
          "output_type": "stream",
          "text": [
            "/usr/local/lib/python3.6/dist-packages/ipykernel_launcher.py:11: UserWarning: Update your `Model` call to the Keras 2 API: `Model(inputs=Tensor(\"in..., outputs=Tensor(\"de...)`\n",
            "  # This is added back by InteractiveShellApp.init_path()\n"
          ],
          "name": "stderr"
        }
      ]
    },
    {
      "metadata": {
        "id": "CdTPf7m4v1Of",
        "colab_type": "code",
        "colab": {
          "base_uri": "https://localhost:8080/",
          "height": 1106
        },
        "outputId": "349c9aa8-9c7d-4c9b-c32e-841f03e9d7ae"
      },
      "cell_type": "code",
      "source": [
        "arg_dataset=\"cursoDL/imagens/datasets/animals\"\n",
        "\n",
        "# grab the list of images that we'll be describing\n",
        "print(\"[INFO] loading images...\")\n",
        "imagePaths = list(paths.list_images(arg_dataset))\n",
        "\n",
        "# initialize the image preprocessors\n",
        "sp = SimplePreprocessor(48, 48)\n",
        "iap = ImageToArrayPreprocessor()\n",
        "\n",
        "# load the dataset from disk then scale the raw pixel intensities\n",
        "# to the range [0, 1]\n",
        "#sdl = SimpleDatasetLoader(preprocessors=[sp, iap])\n",
        "sdl = SimpleDatasetLoader(preprocessors=[sp])\n",
        "(data, labels) = sdl.load(imagePaths, verbose=500)\n",
        "data = data.astype(\"float\") / 255.0\n",
        "\n",
        "# partition the data into training and testing splits using 75% of\n",
        "# the data for training and the remaining 25% for testing\n",
        "(trainX, testX, trainY, testY) = train_test_split(data, labels,\n",
        "\ttest_size=0.25, random_state=42)\n",
        "\n",
        "# convert the labels from integers to vectors\n",
        "trainY = LabelBinarizer().fit_transform(trainY)\n",
        "testY = LabelBinarizer().fit_transform(testY)\n",
        "\n",
        "# initialize the optimizer and model\n",
        "print(\"[INFO] compiling model...\")\n",
        "opt = SGD(lr=0.001)\n",
        "\n",
        "model.compile(loss=\"categorical_crossentropy\", optimizer=opt,\n",
        "\tmetrics=[\"accuracy\"])\n",
        "\n",
        "# train the network\n",
        "num_epocas = 10\n",
        "print(\"[INFO] training network...\")\n",
        "H = model.fit(trainX, trainY, validation_data=(testX, testY),\n",
        "\tbatch_size=32, nb_epoch=num_epocas, verbose=1)\n",
        "\n",
        "# evaluate the network\n",
        "print(\"[INFO] evaluating network...\")\n",
        "predictions = model.predict(testX, batch_size=32)\n",
        "print(classification_report(testY.argmax(axis=1),\n",
        "\tpredictions.argmax(axis=1),\n",
        "\ttarget_names=[\"cat\", \"dog\", \"panda\"]))\n",
        "\n",
        "# plot the training loss and accuracy\n",
        "plt.style.use(\"ggplot\")\n",
        "plt.figure()\n",
        "plt.plot(np.arange(0, num_epocas), H.history[\"loss\"], label=\"train_loss\")\n",
        "plt.plot(np.arange(0, num_epocas), H.history[\"val_loss\"], label=\"val_loss\")\n",
        "plt.plot(np.arange(0, num_epocas), H.history[\"acc\"], label=\"train_acc\")\n",
        "plt.plot(np.arange(0, num_epocas), H.history[\"val_acc\"], label=\"val_acc\")\n",
        "plt.title(\"Training Loss and Accuracy\")\n",
        "plt.xlabel(\"Epoch #\")\n",
        "plt.ylabel(\"Loss/Accuracy\")\n",
        "plt.legend()\n",
        "plt.show()"
      ],
      "execution_count": 12,
      "outputs": [
        {
          "output_type": "stream",
          "text": [
            "[INFO] loading images...\n",
            "[INFO] processed 500/3000\n",
            "[INFO] processed 1000/3000\n",
            "[INFO] processed 1500/3000\n",
            "[INFO] processed 2000/3000\n",
            "[INFO] processed 2500/3000\n",
            "[INFO] processed 3000/3000\n",
            "[INFO] compiling model...\n",
            "[INFO] training network...\n"
          ],
          "name": "stdout"
        },
        {
          "output_type": "stream",
          "text": [
            "/usr/local/lib/python3.6/dist-packages/ipykernel_launcher.py:38: UserWarning: The `nb_epoch` argument in `fit` has been renamed `epochs`.\n"
          ],
          "name": "stderr"
        },
        {
          "output_type": "stream",
          "text": [
            "Train on 2250 samples, validate on 750 samples\n",
            "Epoch 1/10\n",
            "2250/2250 [==============================] - 3s 1ms/step - loss: 1.1597 - acc: 0.3111 - val_loss: 1.1339 - val_acc: 0.3213\n",
            "Epoch 2/10\n",
            "2250/2250 [==============================] - 3s 1ms/step - loss: 1.1071 - acc: 0.3618 - val_loss: 1.0968 - val_acc: 0.3813\n",
            "Epoch 3/10\n",
            "2250/2250 [==============================] - 3s 1ms/step - loss: 1.0711 - acc: 0.4182 - val_loss: 1.0690 - val_acc: 0.4267\n",
            "Epoch 4/10\n",
            "2250/2250 [==============================] - 3s 1ms/step - loss: 1.0416 - acc: 0.4698 - val_loss: 1.0329 - val_acc: 0.4947\n",
            "Epoch 5/10\n",
            "2250/2250 [==============================] - 3s 1ms/step - loss: 1.0152 - acc: 0.5071 - val_loss: 1.0086 - val_acc: 0.5093\n",
            "Epoch 6/10\n",
            "2250/2250 [==============================] - 3s 1ms/step - loss: 0.9911 - acc: 0.5307 - val_loss: 0.9857 - val_acc: 0.5320\n",
            "Epoch 7/10\n",
            "2250/2250 [==============================] - 3s 1ms/step - loss: 0.9702 - acc: 0.5520 - val_loss: 0.9682 - val_acc: 0.5560\n",
            "Epoch 8/10\n",
            "2250/2250 [==============================] - 3s 1ms/step - loss: 0.9523 - acc: 0.5667 - val_loss: 0.9507 - val_acc: 0.5627\n",
            "Epoch 9/10\n",
            "2250/2250 [==============================] - 3s 1ms/step - loss: 0.9343 - acc: 0.5884 - val_loss: 0.9315 - val_acc: 0.5760\n",
            "Epoch 10/10\n",
            "2250/2250 [==============================] - 3s 1ms/step - loss: 0.9191 - acc: 0.5947 - val_loss: 0.9182 - val_acc: 0.5920\n",
            "[INFO] evaluating network...\n",
            "              precision    recall  f1-score   support\n",
            "\n",
            "         cat       0.62      0.56      0.59       239\n",
            "         dog       0.44      0.51      0.47       249\n",
            "       panda       0.74      0.70      0.72       262\n",
            "\n",
            "   micro avg       0.59      0.59      0.59       750\n",
            "   macro avg       0.60      0.59      0.59       750\n",
            "weighted avg       0.60      0.59      0.60       750\n",
            "\n"
          ],
          "name": "stdout"
        },
        {
          "output_type": "display_data",
          "data": {
            "image/png": "[encoded data removed]",
            "text/plain": [
              "<Figure size 576x396 with 1 Axes>"
            ]
          },
          "metadata": {
            "tags": []
          }
        }
      ]
    },
    {
      "metadata": {
        "id": "GfQHIQ-gwvcP",
        "colab_type": "code",
        "colab": {}
      },
      "cell_type": "code",
      "source": [
        ""
      ],
      "execution_count": 0,
      "outputs": []
    }
  ]
}